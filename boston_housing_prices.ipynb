{
 "cells": [
  {
   "cell_type": "code",
   "execution_count": 7,
   "metadata": {
    "collapsed": false
   },
   "outputs": [
    {
     "name": "stdout",
     "output_type": "stream",
     "text": [
      "(506, 13)\n",
      "(506, 1)\n"
     ]
    }
   ],
   "source": [
    "import tensorflow as tf\n",
    "import numpy as np\n",
    "\n",
    "tf.reset_default_graph()\n",
    "\n",
    "#Good people at tensorflow have provided the data \n",
    "from tensorflow.contrib.learn import datasets\n",
    "\n",
    "boston = datasets.load_dataset('boston')\n",
    "features = np.array(boston.data)\n",
    "prices = np.array(boston.target)\n",
    "prices = np.reshape(prices,[-1,1])\n",
    "\n",
    "print(features.shape)\n",
    "print (prices.shape)"
   ]
  },
  {
   "cell_type": "code",
   "execution_count": 8,
   "metadata": {
    "collapsed": false
   },
   "outputs": [
    {
     "data": {
      "text/plain": [
       "24.0"
      ]
     },
     "execution_count": 8,
     "metadata": {},
     "output_type": "execute_result"
    }
   ],
   "source": [
    "boston.target[0]"
   ]
  },
  {
   "cell_type": "code",
   "execution_count": 9,
   "metadata": {
    "collapsed": false
   },
   "outputs": [
    {
     "name": "stdout",
     "output_type": "stream",
     "text": [
      "Input placeholders created\n"
     ]
    }
   ],
   "source": [
    "#Define input values\n",
    "x = tf.placeholder(shape=[None,13],dtype=tf.float32, name='x-input')\n",
    "y_ = tf.placeholder(shape=[None,1],dtype=tf.float32, name='y-input')\n",
    "\n",
    "#lets normalize all features along the columns\n",
    "x_n = tf.nn.l2_normalize(x,1)\n",
    "\n",
    "print('Input placeholders created')"
   ]
  },
  {
   "cell_type": "code",
   "execution_count": 10,
   "metadata": {
    "collapsed": false
   },
   "outputs": [
    {
     "name": "stdout",
     "output_type": "stream",
     "text": [
      "Weight and Bias created\n"
     ]
    }
   ],
   "source": [
    "#Define Weights and Bias\n",
    "W = tf.Variable(tf.zeros(shape=[13,1]), name=\"Weights\")\n",
    "b = tf.Variable(tf.zeros(shape=[1]),name=\"Bias\")\n",
    "print('Weight and Bias created')"
   ]
  },
  {
   "cell_type": "code",
   "execution_count": 11,
   "metadata": {
    "collapsed": false
   },
   "outputs": [
    {
     "name": "stdout",
     "output_type": "stream",
     "text": [
      "Output and loass Ops created\n"
     ]
    }
   ],
   "source": [
    "#Price prediction\n",
    "y = tf.add(tf.matmul(x_n,W),b,name='output')\n",
    "\n",
    "#Loss\n",
    "loss = tf.reduce_mean(tf.square(y-y_),name='Loss')\n",
    "\n",
    "print('Output and loass Ops created')"
   ]
  },
  {
   "cell_type": "code",
   "execution_count": 12,
   "metadata": {
    "collapsed": false
   },
   "outputs": [
    {
     "name": "stdout",
     "output_type": "stream",
     "text": [
      "Optimizer is created. Graph building is completed.\n"
     ]
    }
   ],
   "source": [
    "#Lets define Gradient Descent Optimizer\n",
    "train_op = tf.train.GradientDescentOptimizer(0.03).minimize(loss)\n",
    "\n",
    "print('Optimizer is created. Graph building is completed.')"
   ]
  },
  {
   "cell_type": "code",
   "execution_count": 13,
   "metadata": {
    "collapsed": false
   },
   "outputs": [
    {
     "name": "stdout",
     "output_type": "stream",
     "text": [
      "('Training loss at step: ', 0, ' is ', 592.14697)\n",
      "('Training loss at step: ', 100, ' is ', 72.251587)\n",
      "('Training loss at step: ', 200, ' is ', 67.807045)\n",
      "('Training loss at step: ', 300, ' is ', 65.681366)\n",
      "('Training loss at step: ', 400, ' is ', 64.617775)\n",
      "('Training loss at step: ', 500, ' is ', 64.041992)\n",
      "('Training loss at step: ', 600, ' is ', 63.691544)\n",
      "('Training loss at step: ', 700, ' is ', 63.44648)\n",
      "('Training loss at step: ', 800, ' is ', 63.25185)\n",
      "('Training loss at step: ', 900, ' is ', 63.082512)\n",
      "[array([[ -9.76077139e-01],\n",
      "       [  6.37300968e+00],\n",
      "       [ -1.12298393e+00],\n",
      "       [  3.85848619e-02],\n",
      "       [  6.45824103e-03],\n",
      "       [  7.37350285e-01],\n",
      "       [ -1.95096135e+00],\n",
      "       [  2.44327024e-01],\n",
      "       [ -1.13847770e-01],\n",
      "       [ -2.67543364e+00],\n",
      "       [  1.51258148e-02],\n",
      "       [  1.89304771e+01],\n",
      "       [ -3.03242660e+00]], dtype=float32), array([ 12.08096504], dtype=float32)]\n"
     ]
    }
   ],
   "source": [
    "#Lets start graph Execution\n",
    "with tf.Session() as sess:\n",
    "    # variables need to be initialized before we can use them\n",
    "    sess.run(tf.global_variables_initializer())\n",
    "    \n",
    "    #lets train\n",
    "    training_epochs = 1000  #how many times data need to be shown to model\n",
    "    \n",
    "    for epoch in range(training_epochs):\n",
    "        \n",
    "        #Calculate train_op and loss\n",
    "        train_model, train_loss = sess.run([train_op,loss],feed_dict={x:features, y_:prices})\n",
    "        \n",
    "        if epoch % 100 == 0:\n",
    "            print ('Training loss at step: ', epoch, ' is ', train_loss)\n",
    "    print (sess.run([W,b]))"
   ]
  },
  {
   "cell_type": "code",
   "execution_count": 14,
   "metadata": {
    "collapsed": false
   },
   "outputs": [
    {
     "name": "stdout",
     "output_type": "stream",
     "text": [
      "Created training Loss summary\n"
     ]
    }
   ],
   "source": [
    "#Lets create a log for loss\n",
    "training_loss = tf.summary.scalar('train_loss',loss)\n",
    "\n",
    "print('Created training Loss summary')"
   ]
  },
  {
   "cell_type": "code",
   "execution_count": 17,
   "metadata": {
    "collapsed": false
   },
   "outputs": [
    {
     "name": "stdout",
     "output_type": "stream",
     "text": [
      "('Training loss at step: ', 0, ' is ', 592.14697)\n",
      "('Training loss at step: ', 100, ' is ', 72.251587)\n",
      "('Training loss at step: ', 200, ' is ', 67.807045)\n",
      "('Training loss at step: ', 300, ' is ', 65.681366)\n",
      "('Training loss at step: ', 400, ' is ', 64.617775)\n",
      "('Training loss at step: ', 500, ' is ', 64.041992)\n",
      "('Training loss at step: ', 600, ' is ', 63.691544)\n",
      "('Training loss at step: ', 700, ' is ', 63.44648)\n",
      "('Training loss at step: ', 800, ' is ', 63.25185)\n",
      "('Training loss at step: ', 900, ' is ', 63.082512)\n",
      "[array([[ -9.76077139e-01],\n",
      "       [  6.37300968e+00],\n",
      "       [ -1.12298393e+00],\n",
      "       [  3.85848619e-02],\n",
      "       [  6.45824103e-03],\n",
      "       [  7.37350285e-01],\n",
      "       [ -1.95096135e+00],\n",
      "       [  2.44327024e-01],\n",
      "       [ -1.13847770e-01],\n",
      "       [ -2.67543364e+00],\n",
      "       [  1.51258148e-02],\n",
      "       [  1.89304771e+01],\n",
      "       [ -3.03242660e+00]], dtype=float32), array([ 12.08096504], dtype=float32)]\n"
     ]
    }
   ],
   "source": [
    "#Lets add FileWriter\n",
    "#Lets start graph Execution\n",
    "with tf.Session() as sess:\n",
    "    # variables need to be initialized before we can use them\n",
    "    sess.run(tf.global_variables_initializer())\n",
    "    \n",
    "    #lets train\n",
    "    training_epochs = 1000  #how many times data need to be shown to model\n",
    "    \n",
    "    #Create a writer to write log\n",
    "    writer = tf.summary.FileWriter('data/boston/', graph=tf.get_default_graph())\n",
    "    \n",
    "    for epoch in range(training_epochs):\n",
    "        \n",
    "        #Calculate train_op and loss\n",
    "        _, train_loss, loss_log = sess.run([train_op,loss, training_loss],feed_dict={x:features, y_:prices})\n",
    "        #Write logs\n",
    "        writer.add_summary(loss_log, epoch)\n",
    "        \n",
    "        if epoch % 100 == 0:\n",
    "            print ('Training loss at step: ', epoch, ' is ', train_loss)\n",
    "    print (sess.run([W,b]))"
   ]
  },
  {
   "cell_type": "code",
   "execution_count": null,
   "metadata": {
    "collapsed": true
   },
   "outputs": [],
   "source": []
  }
 ],
 "metadata": {
  "anaconda-cloud": {},
  "kernelspec": {
   "display_name": "Python 2",
   "language": "python",
   "name": "python2"
  },
  "language_info": {
   "codemirror_mode": {
    "name": "ipython",
    "version": 2
   },
   "file_extension": ".py",
   "mimetype": "text/x-python",
   "name": "python",
   "nbconvert_exporter": "python",
   "pygments_lexer": "ipython2",
   "version": "2.7.13"
  }
 },
 "nbformat": 4,
 "nbformat_minor": 1
}
