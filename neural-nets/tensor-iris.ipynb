{
 "cells": [
  {
   "cell_type": "code",
   "execution_count": 2,
   "metadata": {
    "collapsed": false
   },
   "outputs": [],
   "source": [
    "from __future__ import absolute_import\n",
    "from __future__ import division\n",
    "from __future__ import print_function\n",
    "\n",
    "import os\n",
    "import urllib\n",
    "\n",
    "import numpy as np\n",
    "import tensorflow as tf"
   ]
  },
  {
   "cell_type": "code",
   "execution_count": 3,
   "metadata": {
    "collapsed": true
   },
   "outputs": [],
   "source": [
    "# Data sets\n",
    "IRIS_TRAINING = \"iris_training.csv\"\n",
    "IRIS_TRAINING_URL = \"http://download.tensorflow.org/data/iris_training.csv\"\n",
    "\n",
    "IRIS_TEST = \"iris_test.csv\"\n",
    "IRIS_TEST_URL = \"http://download.tensorflow.org/data/iris_test.csv\""
   ]
  },
  {
   "cell_type": "code",
   "execution_count": 5,
   "metadata": {
    "collapsed": true
   },
   "outputs": [],
   "source": [
    "training_set = tf.contrib.learn.datasets.base.load_csv_with_header(\n",
    "  filename=IRIS_TRAINING,\n",
    "  target_dtype=np.int,\n",
    "  features_dtype=np.float32)"
   ]
  },
  {
   "cell_type": "code",
   "execution_count": 7,
   "metadata": {
    "collapsed": false
   },
   "outputs": [
    {
     "data": {
      "text/plain": [
       "array([2, 1, 2, 0, 0, 0, 0, 2, 1, 0, 1, 1, 0, 0, 2, 1, 2, 2, 2, 0, 2, 2, 0,\n",
       "       2, 2, 0, 1, 2, 1, 1, 1, 1, 1, 2, 2, 2, 2, 2, 0, 0, 2, 2, 2, 0, 0, 2,\n",
       "       0, 2, 0, 2, 0, 1, 1, 0, 1, 2, 2, 2, 2, 1, 1, 2, 2, 2, 1, 2, 0, 2, 2,\n",
       "       0, 0, 1, 0, 2, 2, 0, 1, 1, 1, 2, 0, 1, 1, 1, 2, 0, 1, 1, 1, 0, 2, 1,\n",
       "       0, 0, 2, 0, 0, 2, 1, 0, 0, 1, 0, 1, 0, 0, 0, 0, 1, 0, 2, 1, 0, 2, 0,\n",
       "       1, 1, 0, 0, 1])"
      ]
     },
     "execution_count": 7,
     "metadata": {},
     "output_type": "execute_result"
    }
   ],
   "source": [
    "training_set.target"
   ]
  },
  {
   "cell_type": "code",
   "execution_count": 4,
   "metadata": {
    "collapsed": false
   },
   "outputs": [
    {
     "name": "stdout",
     "output_type": "stream",
     "text": [
      "INFO:tensorflow:Using default config.\n",
      "INFO:tensorflow:Using config: {'_save_checkpoints_secs': 600, '_num_ps_replicas': 0, '_keep_checkpoint_max': 5, '_tf_random_seed': None, '_task_type': None, '_environment': 'local', '_is_chief': True, '_cluster_spec': <tensorflow.python.training.server_lib.ClusterSpec object at 0x7f1d756e2e10>, '_tf_config': gpu_options {\n",
      "  per_process_gpu_memory_fraction: 1.0\n",
      "}\n",
      ", '_task_id': 0, '_save_summary_steps': 100, '_save_checkpoints_steps': None, '_evaluation_master': '', '_keep_checkpoint_every_n_hours': 10000, '_master': ''}\n",
      "WARNING:tensorflow:From /home/canwill/anaconda2/lib/python2.7/site-packages/tensorflow/contrib/learn/python/learn/estimators/head.py:1362: scalar_summary (from tensorflow.python.ops.logging_ops) is deprecated and will be removed after 2016-11-30.\n",
      "Instructions for updating:\n",
      "Please switch to tf.summary.scalar. Note that tf.summary.scalar uses the node name instead of the tag. This means that TensorFlow will automatically de-duplicate summary names based on the scope they are created in. Also, passing a tensor or list of tags to a scalar summary op is no longer supported.\n",
      "INFO:tensorflow:Create CheckpointSaverHook.\n",
      "INFO:tensorflow:Saving checkpoints for 1 into /tmp/iris_model/model.ckpt.\n",
      "INFO:tensorflow:loss = 1.62298, step = 1\n",
      "INFO:tensorflow:global_step/sec: 1799.01\n",
      "INFO:tensorflow:loss = 0.169484, step = 101\n",
      "INFO:tensorflow:global_step/sec: 1769.44\n",
      "INFO:tensorflow:loss = 0.0898319, step = 201\n",
      "INFO:tensorflow:global_step/sec: 1526.67\n",
      "INFO:tensorflow:loss = 0.0703737, step = 301\n",
      "INFO:tensorflow:global_step/sec: 1435.13\n",
      "INFO:tensorflow:loss = 0.0626315, step = 401\n",
      "INFO:tensorflow:global_step/sec: 1648.23\n",
      "INFO:tensorflow:loss = 0.0583942, step = 501\n",
      "INFO:tensorflow:global_step/sec: 1581.55\n",
      "INFO:tensorflow:loss = 0.0551886, step = 601\n",
      "INFO:tensorflow:global_step/sec: 1770.07\n",
      "INFO:tensorflow:loss = 0.0529711, step = 701\n",
      "INFO:tensorflow:global_step/sec: 1898.32\n",
      "INFO:tensorflow:loss = 0.0512704, step = 801\n",
      "INFO:tensorflow:global_step/sec: 1921.05\n",
      "INFO:tensorflow:loss = 0.049803, step = 901\n",
      "INFO:tensorflow:global_step/sec: 1884.69\n",
      "INFO:tensorflow:loss = 0.0486378, step = 1001\n",
      "INFO:tensorflow:global_step/sec: 1793.3\n",
      "INFO:tensorflow:loss = 0.0475634, step = 1101\n",
      "INFO:tensorflow:global_step/sec: 1964.49\n",
      "INFO:tensorflow:loss = 0.0466699, step = 1201\n",
      "INFO:tensorflow:global_step/sec: 1958.94\n",
      "INFO:tensorflow:loss = 0.0458041, step = 1301\n",
      "INFO:tensorflow:global_step/sec: 1732.41\n",
      "INFO:tensorflow:loss = 0.0450839, step = 1401\n",
      "INFO:tensorflow:global_step/sec: 1873.95\n",
      "INFO:tensorflow:loss = 0.0443489, step = 1501\n",
      "INFO:tensorflow:global_step/sec: 1972.19\n",
      "INFO:tensorflow:loss = 0.0437155, step = 1601\n",
      "INFO:tensorflow:global_step/sec: 1823.29\n",
      "INFO:tensorflow:loss = 0.0430776, step = 1701\n",
      "INFO:tensorflow:global_step/sec: 1817.33\n",
      "INFO:tensorflow:loss = 0.0425553, step = 1801\n",
      "INFO:tensorflow:global_step/sec: 1779.48\n",
      "INFO:tensorflow:loss = 0.041952, step = 1901\n",
      "INFO:tensorflow:Saving checkpoints for 2000 into /tmp/iris_model/model.ckpt.\n",
      "INFO:tensorflow:Loss for final step: 0.0413316.\n",
      "WARNING:tensorflow:From /home/canwill/anaconda2/lib/python2.7/site-packages/tensorflow/contrib/learn/python/learn/estimators/head.py:1362: scalar_summary (from tensorflow.python.ops.logging_ops) is deprecated and will be removed after 2016-11-30.\n",
      "Instructions for updating:\n",
      "Please switch to tf.summary.scalar. Note that tf.summary.scalar uses the node name instead of the tag. This means that TensorFlow will automatically de-duplicate summary names based on the scope they are created in. Also, passing a tensor or list of tags to a scalar summary op is no longer supported.\n",
      "INFO:tensorflow:Starting evaluation at 2017-04-21-08:11:34\n",
      "INFO:tensorflow:Evaluation [1/1]\n",
      "INFO:tensorflow:Finished evaluation at 2017-04-21-08:11:34\n",
      "INFO:tensorflow:Saving dict for global step 2000: accuracy = 0.966667, auc = 0.998333, global_step = 2000, loss = 0.060604\n",
      "WARNING:tensorflow:Skipping summary for global_step, must be a float or np.float32.\n",
      "\n",
      "Test Accuracy: 0.966667\n",
      "\n",
      "New Samples, Class Predictions:    [1, 2]\n",
      "\n"
     ]
    }
   ],
   "source": [
    "def main():\n",
    "    if not os.path.exists(IRIS_TRAINING):\n",
    "        raw = urllib.urlopen(IRIS_TRAINING_URL).read()\n",
    "        with open(IRIS_TRAINING, \"w\") as f:\n",
    "            f.write(raw)\n",
    "\n",
    "    if not os.path.exists(IRIS_TEST):\n",
    "        raw = urllib.urlopen(IRIS_TEST_URL).read()\n",
    "        with open(IRIS_TEST, \"w\") as f:\n",
    "            f.write(raw)\n",
    "\n",
    "    training_set = tf.contrib.learn.datasets.base.load_csv_with_header(\n",
    "      filename=IRIS_TRAINING,\n",
    "      target_dtype=np.int,\n",
    "      features_dtype=np.float32)\n",
    "    test_set = tf.contrib.learn.datasets.base.load_csv_with_header(\n",
    "      filename=IRIS_TEST,\n",
    "      target_dtype=np.int,\n",
    "      features_dtype=np.float32)\n",
    "\n",
    "    feature_columns = [tf.contrib.layers.real_valued_column(\"\", dimension=4)]\n",
    "\n",
    "    classifier = tf.contrib.learn.DNNClassifier(feature_columns=feature_columns,\n",
    "                                              hidden_units=[10, 20, 10],\n",
    "                                              n_classes=3,\n",
    "                                              model_dir=\"/tmp/iris_model\")\n",
    "    def get_train_inputs():\n",
    "        x = tf.constant(training_set.data)\n",
    "        y = tf.constant(training_set.target)\n",
    "\n",
    "        return x, y\n",
    "\n",
    "    classifier.fit(input_fn=get_train_inputs, steps=2000)\n",
    "\n",
    "    def get_test_inputs():\n",
    "        x = tf.constant(test_set.data)\n",
    "        y = tf.constant(test_set.target)\n",
    "\n",
    "        return x, y\n",
    "\n",
    "    accuracy_score = classifier.evaluate(input_fn=get_test_inputs,\n",
    "                                       steps=1)[\"accuracy\"]\n",
    "\n",
    "    print(\"\\nTest Accuracy: {0:f}\\n\".format(accuracy_score))\n",
    "\n",
    "    def new_samples():\n",
    "        return np.array(\n",
    "          [[6.4, 3.2, 4.5, 1.5],\n",
    "           [5.8, 3.1, 5.0, 1.7]], dtype=np.float32)\n",
    "\n",
    "    predictions = list(classifier.predict(input_fn=new_samples))\n",
    "\n",
    "    print(\n",
    "      \"New Samples, Class Predictions:    {}\\n\"\n",
    "      .format(predictions))\n",
    "\n",
    "if __name__ == \"__main__\":\n",
    "    main()"
   ]
  },
  {
   "cell_type": "code",
   "execution_count": null,
   "metadata": {
    "collapsed": true
   },
   "outputs": [],
   "source": []
  }
 ],
 "metadata": {
  "kernelspec": {
   "display_name": "Python 2",
   "language": "python",
   "name": "python2"
  },
  "language_info": {
   "codemirror_mode": {
    "name": "ipython",
    "version": 2
   },
   "file_extension": ".py",
   "mimetype": "text/x-python",
   "name": "python",
   "nbconvert_exporter": "python",
   "pygments_lexer": "ipython2",
   "version": "2.7.13"
  }
 },
 "nbformat": 4,
 "nbformat_minor": 2
}
