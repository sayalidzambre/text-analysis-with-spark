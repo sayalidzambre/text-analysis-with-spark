{
 "cells": [
  {
   "cell_type": "markdown",
   "metadata": {},
   "source": [
    "# Setting Up"
   ]
  },
  {
   "cell_type": "markdown",
   "metadata": {},
   "source": [
    "## Init"
   ]
  },
  {
   "cell_type": "code",
   "execution_count": 1,
   "metadata": {
    "collapsed": true
   },
   "outputs": [],
   "source": [
    "import os\n",
    "os.environ['PYSPARK_SUBMIT_ARGS'] = '--packages databricks:tensorframes:0.2.7-s_2.11 pyspark-shell'"
   ]
  },
  {
   "cell_type": "code",
   "execution_count": 2,
   "metadata": {
    "collapsed": false
   },
   "outputs": [],
   "source": [
    "import seaborn as sns\n",
    "import numpy as np\n",
    "import pandas as pd\n",
    "import collections # For frequency counting\n",
    "import findspark\n",
    "findspark.init(\"/home/canwill/spark2/\")\n",
    "\n",
    "import pyspark\n",
    "from pyspark.sql import DataFrameNaFunctions\n",
    "from pyspark.sql.functions import lit # Create columns of *literal* value\n",
    "from pyspark.sql.functions import col # Returns a Column based on the \n",
    "                                      # given column name\n",
    "from pyspark.ml.feature import StringIndexer #label encoding\n",
    "from pyspark.ml import Pipeline\n",
    "\n",
    "#sc = pyspark.SparkContext(appName=\"helloworld\")"
   ]
  },
  {
   "cell_type": "markdown",
   "metadata": {},
   "source": [
    "## SparkSession"
   ]
  },
  {
   "cell_type": "code",
   "execution_count": 3,
   "metadata": {
    "collapsed": false
   },
   "outputs": [],
   "source": [
    "from pyspark.sql import SparkSession\n",
    "\n",
    "spark = SparkSession \\\n",
    "    .builder \\\n",
    "    .appName(\"TensorOnSpark\") \\\n",
    "    .config(\"spark.executor.memory\", \"5g\") \\\n",
    "    .getOrCreate()\n",
    "    \n",
    "spark.conf.set(\"spark.sql.caseSensitive\", \"false\");\n",
    "spark.sql(\"set spark.sql.caseSensitive=false\");"
   ]
  },
  {
   "cell_type": "markdown",
   "metadata": {},
   "source": [
    "## Data"
   ]
  },
  {
   "cell_type": "code",
   "execution_count": 4,
   "metadata": {
    "collapsed": true
   },
   "outputs": [],
   "source": [
    "trainDF = spark.read.csv(\"data/train.csv\", header=\"true\")\n",
    "testDF = spark.read.csv(\"data/test.csv\", header=\"true\")"
   ]
  },
  {
   "cell_type": "markdown",
   "metadata": {},
   "source": [
    "**Combine train and test data.**"
   ]
  },
  {
   "cell_type": "code",
   "execution_count": 5,
   "metadata": {
    "collapsed": false
   },
   "outputs": [],
   "source": [
    "## Add Survived column to test, and dataset name as a column\n",
    "trainDF = trainDF.withColumn('Mark', lit('train'))\n",
    "testDF = (testDF.withColumn('Survived',lit(0))\n",
    "                .withColumn('Mark', lit('test')))\n",
    "testDF = testDF[trainDF.columns]\n",
    "\n",
    "## Append Test data to Train data\n",
    "df = trainDF.unionAll(testDF)"
   ]
  },
  {
   "cell_type": "code",
   "execution_count": 6,
   "metadata": {
    "collapsed": true
   },
   "outputs": [],
   "source": [
    "df.createOrReplaceTempView(\"train\")"
   ]
  },
  {
   "cell_type": "markdown",
   "metadata": {},
   "source": [
    "# Steps in a Machine Learning Workflow"
   ]
  },
  {
   "cell_type": "markdown",
   "metadata": {},
   "source": [
    "* Data Collection\n",
    "* Data Preprocessing\n",
    "* Feature Engineering\n",
    "* Data format translation\n",
    "* Modeling\n",
    "* Evaluation and Selection"
   ]
  },
  {
   "cell_type": "markdown",
   "metadata": {},
   "source": [
    "## Data Collection"
   ]
  },
  {
   "cell_type": "markdown",
   "metadata": {},
   "source": [
    "* Combiniing Datasets"
   ]
  },
  {
   "cell_type": "markdown",
   "metadata": {},
   "source": [
    "## Data Preprocessing"
   ]
  },
  {
   "cell_type": "markdown",
   "metadata": {},
   "source": [
    "### Exploratory Data Analysis"
   ]
  },
  {
   "cell_type": "markdown",
   "metadata": {},
   "source": [
    "* Statistical Summary\n",
    "* Histograms\n",
    "* Correlations"
   ]
  },
  {
   "cell_type": "markdown",
   "metadata": {},
   "source": [
    "#### What is the schema?"
   ]
  },
  {
   "cell_type": "code",
   "execution_count": 7,
   "metadata": {
    "collapsed": false
   },
   "outputs": [
    {
     "data": {
      "text/plain": [
       "['PassengerId',\n",
       " 'Survived',\n",
       " 'Pclass',\n",
       " 'Name',\n",
       " 'Sex',\n",
       " 'Age',\n",
       " 'SibSp',\n",
       " 'Parch',\n",
       " 'Ticket',\n",
       " 'Fare',\n",
       " 'Cabin',\n",
       " 'Embarked',\n",
       " 'Mark']"
      ]
     },
     "execution_count": 7,
     "metadata": {},
     "output_type": "execute_result"
    }
   ],
   "source": [
    "df.columns"
   ]
  },
  {
   "cell_type": "code",
   "execution_count": 8,
   "metadata": {
    "collapsed": false
   },
   "outputs": [
    {
     "name": "stdout",
     "output_type": "stream",
     "text": [
      "root\n",
      " |-- PassengerId: string (nullable = true)\n",
      " |-- Survived: string (nullable = true)\n",
      " |-- Pclass: string (nullable = true)\n",
      " |-- Name: string (nullable = true)\n",
      " |-- Sex: string (nullable = true)\n",
      " |-- Age: string (nullable = true)\n",
      " |-- SibSp: string (nullable = true)\n",
      " |-- Parch: string (nullable = true)\n",
      " |-- Ticket: string (nullable = true)\n",
      " |-- Fare: string (nullable = true)\n",
      " |-- Cabin: string (nullable = true)\n",
      " |-- Embarked: string (nullable = true)\n",
      " |-- Mark: string (nullable = false)\n",
      "\n"
     ]
    }
   ],
   "source": [
    "df.printSchema()"
   ]
  },
  {
   "cell_type": "markdown",
   "metadata": {},
   "source": [
    "#### Which ones are numeric?"
   ]
  },
  {
   "cell_type": "code",
   "execution_count": 9,
   "metadata": {
    "collapsed": false
   },
   "outputs": [
    {
     "name": "stdout",
     "output_type": "stream",
     "text": [
      "+-----------+--------+------+--------------------+------+---+-----+-----+----------------+-------+-----+--------+-----+\n",
      "|PassengerId|Survived|Pclass|                Name|   Sex|Age|SibSp|Parch|          Ticket|   Fare|Cabin|Embarked| Mark|\n",
      "+-----------+--------+------+--------------------+------+---+-----+-----+----------------+-------+-----+--------+-----+\n",
      "|          1|       0|     3|Braund, Mr. Owen ...|  male| 22|    1|    0|       A/5 21171|   7.25| null|       S|train|\n",
      "|          2|       1|     1|Cumings, Mrs. Joh...|female| 38|    1|    0|        PC 17599|71.2833|  C85|       C|train|\n",
      "|          3|       1|     3|Heikkinen, Miss. ...|female| 26|    0|    0|STON/O2. 3101282|  7.925| null|       S|train|\n",
      "|          4|       1|     1|Futrelle, Mrs. Ja...|female| 35|    1|    0|          113803|   53.1| C123|       S|train|\n",
      "|          5|       0|     3|Allen, Mr. Willia...|  male| 35|    0|    0|          373450|   8.05| null|       S|train|\n",
      "+-----------+--------+------+--------------------+------+---+-----+-----+----------------+-------+-----+--------+-----+\n",
      "only showing top 5 rows\n",
      "\n"
     ]
    }
   ],
   "source": [
    "df.show(5)"
   ]
  },
  {
   "cell_type": "markdown",
   "metadata": {},
   "source": [
    "Here are the variables which should be numeric (float or integer):\n",
    "\n",
    "* PassengerId: Integer\n",
    "* Pclass: Integer\n",
    "* SibSp: Integer\n",
    "* Parch: Integer\n",
    "* Survived: Integer\n",
    "* Age: Float\n",
    "* Fare: Float"
   ]
  },
  {
   "cell_type": "code",
   "execution_count": 10,
   "metadata": {
    "collapsed": false
   },
   "outputs": [],
   "source": [
    "# Here is an example\n",
    "df = df.withColumn(\"AgeTmp\", df[\"Age\"].cast(\"float\")) \\\n",
    "    .drop(\"Age\") \\\n",
    "    .withColumnRenamed(\"AgeTmp\", \"Age\")"
   ]
  },
  {
   "cell_type": "code",
   "execution_count": 11,
   "metadata": {
    "collapsed": false
   },
   "outputs": [],
   "source": [
    "# Let's define function\n",
    "def to_anytype(df, colnames, typename):\n",
    "    for colname in colnames:\n",
    "        df = df.withColumn(\"tmp\", df[colname].cast(typename)) \\\n",
    "        .drop(colname) \\\n",
    "        .withColumnRenamed(\"tmp\", colname)\n",
    "    return(df)"
   ]
  },
  {
   "cell_type": "code",
   "execution_count": 12,
   "metadata": {
    "collapsed": false
   },
   "outputs": [],
   "source": [
    "intCols = ['PassengerId', 'Pclass', 'SibSp', 'Parch', 'Survived']\n",
    "floatCols = ['Age', 'Fare']\n",
    "\n",
    "df = to_anytype(df, intCols, \"integer\")\n",
    "df = to_anytype(df, floatCols, \"float\")"
   ]
  },
  {
   "cell_type": "code",
   "execution_count": 13,
   "metadata": {
    "collapsed": false
   },
   "outputs": [
    {
     "name": "stdout",
     "output_type": "stream",
     "text": [
      "root\n",
      " |-- Name: string (nullable = true)\n",
      " |-- Sex: string (nullable = true)\n",
      " |-- Ticket: string (nullable = true)\n",
      " |-- Cabin: string (nullable = true)\n",
      " |-- Embarked: string (nullable = true)\n",
      " |-- Mark: string (nullable = false)\n",
      " |-- PassengerId: integer (nullable = true)\n",
      " |-- Pclass: integer (nullable = true)\n",
      " |-- SibSp: integer (nullable = true)\n",
      " |-- Parch: integer (nullable = true)\n",
      " |-- Survived: integer (nullable = true)\n",
      " |-- Age: float (nullable = true)\n",
      " |-- Fare: float (nullable = true)\n",
      "\n"
     ]
    }
   ],
   "source": [
    "df.printSchema()"
   ]
  },
  {
   "cell_type": "markdown",
   "metadata": {},
   "source": [
    "#### Let's inspect data"
   ]
  },
  {
   "cell_type": "code",
   "execution_count": 14,
   "metadata": {
    "collapsed": false
   },
   "outputs": [
    {
     "data": {
      "text/plain": [
       "[Row(Name=u'Braund, Mr. Owen Harris', Sex=u'male', Ticket=u'A/5 21171', Cabin=None, Embarked=u'S', Mark=u'train', PassengerId=1, Pclass=3, SibSp=1, Parch=0, Survived=0, Age=22.0, Fare=7.25),\n",
       " Row(Name=u'Cumings, Mrs. John Bradley (Florence Briggs Thayer)', Sex=u'female', Ticket=u'PC 17599', Cabin=u'C85', Embarked=u'C', Mark=u'train', PassengerId=2, Pclass=1, SibSp=1, Parch=0, Survived=1, Age=38.0, Fare=71.2833023071289),\n",
       " Row(Name=u'Heikkinen, Miss. Laina', Sex=u'female', Ticket=u'STON/O2. 3101282', Cabin=None, Embarked=u'S', Mark=u'train', PassengerId=3, Pclass=3, SibSp=0, Parch=0, Survived=1, Age=26.0, Fare=7.925000190734863),\n",
       " Row(Name=u'Futrelle, Mrs. Jacques Heath (Lily May Peel)', Sex=u'female', Ticket=u'113803', Cabin=u'C123', Embarked=u'S', Mark=u'train', PassengerId=4, Pclass=1, SibSp=1, Parch=0, Survived=1, Age=35.0, Fare=53.099998474121094),\n",
       " Row(Name=u'Allen, Mr. William Henry', Sex=u'male', Ticket=u'373450', Cabin=None, Embarked=u'S', Mark=u'train', PassengerId=5, Pclass=3, SibSp=0, Parch=0, Survived=0, Age=35.0, Fare=8.050000190734863)]"
      ]
     },
     "execution_count": 14,
     "metadata": {},
     "output_type": "execute_result"
    }
   ],
   "source": [
    "df.take(5)"
   ]
  },
  {
   "cell_type": "code",
   "execution_count": 15,
   "metadata": {
    "collapsed": false
   },
   "outputs": [
    {
     "name": "stdout",
     "output_type": "stream",
     "text": [
      "+--------------------+------+----------------+-----+--------+-----+-----------+------+-----+-----+--------+----+-------+\n",
      "|                Name|   Sex|          Ticket|Cabin|Embarked| Mark|PassengerId|Pclass|SibSp|Parch|Survived| Age|   Fare|\n",
      "+--------------------+------+----------------+-----+--------+-----+-----------+------+-----+-----+--------+----+-------+\n",
      "|Braund, Mr. Owen ...|  male|       A/5 21171| null|       S|train|          1|     3|    1|    0|       0|22.0|   7.25|\n",
      "|Cumings, Mrs. Joh...|female|        PC 17599|  C85|       C|train|          2|     1|    1|    0|       1|38.0|71.2833|\n",
      "|Heikkinen, Miss. ...|female|STON/O2. 3101282| null|       S|train|          3|     3|    0|    0|       1|26.0|  7.925|\n",
      "|Futrelle, Mrs. Ja...|female|          113803| C123|       S|train|          4|     1|    1|    0|       1|35.0|   53.1|\n",
      "|Allen, Mr. Willia...|  male|          373450| null|       S|train|          5|     3|    0|    0|       0|35.0|   8.05|\n",
      "+--------------------+------+----------------+-----+--------+-----+-----------+------+-----+-----+--------+----+-------+\n",
      "only showing top 5 rows\n",
      "\n"
     ]
    }
   ],
   "source": [
    "df.show(5)"
   ]
  },
  {
   "cell_type": "markdown",
   "metadata": {},
   "source": [
    "#### Statistical Summary"
   ]
  },
  {
   "cell_type": "code",
   "execution_count": 16,
   "metadata": {
    "collapsed": false
   },
   "outputs": [
    {
     "name": "stdout",
     "output_type": "stream",
     "text": [
      "+-------+------------------+\n",
      "|summary|               Age|\n",
      "+-------+------------------+\n",
      "|  count|              1046|\n",
      "|   mean|29.881137667305726|\n",
      "| stddev|14.413493211267733|\n",
      "|    min|              0.17|\n",
      "|    max|              80.0|\n",
      "+-------+------------------+\n",
      "\n"
     ]
    }
   ],
   "source": [
    "df.describe('Age').show()"
   ]
  },
  {
   "cell_type": "code",
   "execution_count": 17,
   "metadata": {
    "collapsed": false
   },
   "outputs": [
    {
     "name": "stdout",
     "output_type": "stream",
     "text": [
      "+-------+------------------+--------------------+\n",
      "|summary|               Age|                Name|\n",
      "+-------+------------------+--------------------+\n",
      "|  count|              1046|                1309|\n",
      "|   mean|29.881137667305726|                null|\n",
      "| stddev|14.413493211267733|                null|\n",
      "|    min|              0.17|\"Andersson, Mr. A...|\n",
      "|    max|              80.0|van Melkebeke, Mr...|\n",
      "+-------+------------------+--------------------+\n",
      "\n"
     ]
    }
   ],
   "source": [
    "df.describe(['Age', 'Name']).show()"
   ]
  },
  {
   "cell_type": "code",
   "execution_count": 18,
   "metadata": {
    "collapsed": false
   },
   "outputs": [
    {
     "name": "stdout",
     "output_type": "stream",
     "text": [
      "+-------+-----------------+-------------------+------------------+--------------------+------+------------------+------------------+------------------+------------------+-----------------+-----+--------+-----+\n",
      "|summary|      PassengerId|           Survived|            Pclass|                Name|   Sex|               Age|             SibSp|             Parch|            Ticket|             Fare|Cabin|Embarked| Mark|\n",
      "+-------+-----------------+-------------------+------------------+--------------------+------+------------------+------------------+------------------+------------------+-----------------+-----+--------+-----+\n",
      "|  count|             1309|               1309|              1309|                1309|  1309|              1046|              1309|              1309|              1309|             1308|  295|    1307| 1309|\n",
      "|   mean|            655.0| 0.2612681436210848| 2.294881588999236|                null|  null|29.881137667305726|0.4988540870893812|0.3850267379679144| 249039.1368861024|33.29547938203228| null|    null| null|\n",
      "| stddev|378.0200611960517|0.43949364010802755|0.8378360189701275|                null|  null|14.413493211267733|1.0416583905961019|0.8655602753495152|442685.31767656433|51.75866881037215| null|    null| null|\n",
      "|    min|                1|                  0|                 1|\"Andersson, Mr. A...|female|              0.17|                 0|                 0|            110152|              0.0|  A10|       C| test|\n",
      "|    max|             1309|                  1|                 3|van Melkebeke, Mr...|  male|              80.0|                 8|                 9|         WE/P 5735|         512.3292|    T|       S|train|\n",
      "+-------+-----------------+-------------------+------------------+--------------------+------+------------------+------------------+------------------+------------------+-----------------+-----+--------+-----+\n",
      "\n"
     ]
    }
   ],
   "source": [
    "df.describe(trainDF.columns).show()"
   ]
  },
  {
   "cell_type": "code",
   "execution_count": 19,
   "metadata": {
    "collapsed": false
   },
   "outputs": [
    {
     "name": "stdout",
     "output_type": "stream",
     "text": [
      "+-------+-------------------+------------------+--------------------+\n",
      "|summary|           Survived|            Pclass|                Name|\n",
      "+-------+-------------------+------------------+--------------------+\n",
      "|  count|               1309|              1309|                1309|\n",
      "|   mean| 0.2612681436210848| 2.294881588999236|                null|\n",
      "| stddev|0.43949364010802755|0.8378360189701275|                null|\n",
      "|    min|                  0|                 1|\"Andersson, Mr. A...|\n",
      "|    max|                  1|                 3|van Melkebeke, Mr...|\n",
      "+-------+-------------------+------------------+--------------------+\n",
      "\n"
     ]
    }
   ],
   "source": [
    "df.describe(trainDF.columns[1:4]).show()"
   ]
  },
  {
   "cell_type": "code",
   "execution_count": 20,
   "metadata": {
    "collapsed": false
   },
   "outputs": [
    {
     "name": "stdout",
     "output_type": "stream",
     "text": [
      "+-------+------------------+------------------+------------------+\n",
      "|summary|               Age|             SibSp|             Parch|\n",
      "+-------+------------------+------------------+------------------+\n",
      "|  count|              1046|              1309|              1309|\n",
      "|   mean|29.881137667305726|0.4988540870893812|0.3850267379679144|\n",
      "| stddev|14.413493211267733|1.0416583905961019|0.8655602753495152|\n",
      "|    min|              0.17|                 0|                 0|\n",
      "|    max|              80.0|                 8|                 9|\n",
      "+-------+------------------+------------------+------------------+\n",
      "\n"
     ]
    }
   ],
   "source": [
    "df.describe(trainDF.columns[5:8]).show()"
   ]
  },
  {
   "cell_type": "code",
   "execution_count": 21,
   "metadata": {
    "collapsed": false
   },
   "outputs": [
    {
     "name": "stdout",
     "output_type": "stream",
     "text": [
      "+-------+-----------------+-----+--------+\n",
      "|summary|             Fare|Cabin|Embarked|\n",
      "+-------+-----------------+-----+--------+\n",
      "|  count|             1308|  295|    1307|\n",
      "|   mean|33.29547938203228| null|    null|\n",
      "| stddev|51.75866881037215| null|    null|\n",
      "|    min|              0.0|  A10|       C|\n",
      "|    max|         512.3292|    T|       S|\n",
      "+-------+-----------------+-----+--------+\n",
      "\n"
     ]
    }
   ],
   "source": [
    "df.describe(trainDF.columns[9:12]).show()"
   ]
  },
  {
   "cell_type": "markdown",
   "metadata": {},
   "source": [
    "#### Histograms"
   ]
  },
  {
   "cell_type": "markdown",
   "metadata": {},
   "source": [
    "* We need the frequency count of various levels"
   ]
  },
  {
   "cell_type": "code",
   "execution_count": 22,
   "metadata": {
    "collapsed": false
   },
   "outputs": [
    {
     "name": "stdout",
     "output_type": "stream",
     "text": [
      "+----+-----+\n",
      "| age|count|\n",
      "+----+-----+\n",
      "|null|  263|\n",
      "|0.17|    1|\n",
      "|0.33|    1|\n",
      "|0.42|    1|\n",
      "|0.67|    1|\n",
      "|0.75|    3|\n",
      "|0.83|    3|\n",
      "|0.92|    2|\n",
      "|   1|   10|\n",
      "|  10|    4|\n",
      "|  11|    4|\n",
      "|11.5|    1|\n",
      "|  12|    3|\n",
      "|  13|    5|\n",
      "|  14|    8|\n",
      "|14.5|    2|\n",
      "|  15|    6|\n",
      "|  16|   19|\n",
      "|  17|   20|\n",
      "|  18|   39|\n",
      "|18.5|    3|\n",
      "|  19|   29|\n",
      "|   2|   12|\n",
      "|  20|   23|\n",
      "|20.5|    1|\n",
      "|  21|   41|\n",
      "|  22|   43|\n",
      "|22.5|    1|\n",
      "|  23|   26|\n",
      "|23.5|    1|\n",
      "|  24|   47|\n",
      "|24.5|    1|\n",
      "|  25|   34|\n",
      "|  26|   30|\n",
      "|26.5|    1|\n",
      "|  27|   30|\n",
      "|  28|   32|\n",
      "|28.5|    3|\n",
      "|  29|   30|\n",
      "|   3|    7|\n",
      "|  30|   40|\n",
      "|30.5|    2|\n",
      "|  31|   23|\n",
      "|  32|   24|\n",
      "|32.5|    4|\n",
      "|  33|   21|\n",
      "|  34|   16|\n",
      "|34.5|    2|\n",
      "|  35|   23|\n",
      "|  36|   31|\n",
      "|36.5|    2|\n",
      "|  37|    9|\n",
      "|  38|   14|\n",
      "|38.5|    1|\n",
      "|  39|   20|\n",
      "|   4|   10|\n",
      "|  40|   18|\n",
      "|40.5|    3|\n",
      "|  41|   11|\n",
      "|  42|   18|\n",
      "|  43|    9|\n",
      "|  44|   10|\n",
      "|  45|   21|\n",
      "|45.5|    2|\n",
      "|  46|    6|\n",
      "|  47|   14|\n",
      "|  48|   14|\n",
      "|  49|    9|\n",
      "|   5|    5|\n",
      "|  50|   15|\n",
      "|  51|    8|\n",
      "|  52|    6|\n",
      "|  53|    4|\n",
      "|  54|   10|\n",
      "|  55|    8|\n",
      "|55.5|    1|\n",
      "|  56|    4|\n",
      "|  57|    5|\n",
      "|  58|    6|\n",
      "|  59|    3|\n",
      "|   6|    6|\n",
      "|  60|    7|\n",
      "|60.5|    1|\n",
      "|  61|    5|\n",
      "|  62|    5|\n",
      "|  63|    4|\n",
      "|  64|    5|\n",
      "|  65|    3|\n",
      "|  66|    1|\n",
      "|  67|    1|\n",
      "|   7|    4|\n",
      "|  70|    2|\n",
      "|70.5|    1|\n",
      "|  71|    2|\n",
      "|  74|    1|\n",
      "|  76|    1|\n",
      "|   8|    6|\n",
      "|  80|    1|\n",
      "|   9|   10|\n",
      "+----+-----+\n",
      "\n"
     ]
    }
   ],
   "source": [
    "age_hist = spark.sql(\n",
    "    \"SELECT Age AS age, \\\n",
    "            count(*) AS count \\\n",
    "    FROM train \\\n",
    "    GROUP BY Age \\\n",
    "    ORDER BY Age\")\n",
    "age_hist.show(n=age_hist.count())"
   ]
  },
  {
   "cell_type": "code",
   "execution_count": 23,
   "metadata": {
    "collapsed": false
   },
   "outputs": [
    {
     "name": "stdout",
     "output_type": "stream",
     "text": [
      "+------------+-----------+-----+\n",
      "|bucket_floor|bucket_name|count|\n",
      "+------------+-----------+-----+\n",
      "|        null|       null|  263|\n",
      "|           0|     0 to 5|   51|\n",
      "|           5|    5 to 10|   31|\n",
      "|          10|   10 to 15|   27|\n",
      "|          15|   15 to 20|  116|\n",
      "|          20|   20 to 25|  184|\n",
      "|          25|   25 to 30|  160|\n",
      "|          30|   30 to 35|  132|\n",
      "|          35|   35 to 40|  100|\n",
      "|          40|   40 to 45|   69|\n",
      "|          45|   45 to 50|   66|\n",
      "|          50|   50 to 55|   43|\n",
      "|          55|   55 to 60|   27|\n",
      "|          60|   60 to 65|   27|\n",
      "|          65|   65 to 70|    5|\n",
      "|          70|   70 to 75|    6|\n",
      "|          75|   75 to 80|    1|\n",
      "|          80|   80 to 85|    1|\n",
      "+------------+-----------+-----+\n",
      "\n"
     ]
    }
   ],
   "source": [
    "age_hist = spark.sql(\n",
    "    \"SELECT bucket_floor, \\\n",
    "        CONCAT(bucket_floor, ' to ', bucket_ceiling) as bucket_name, \\\n",
    "        count(*) as count \\\n",
    "     FROM ( \\\n",
    "        SELECT floor(Age/5.00)*5 as bucket_floor, \\\n",
    "            floor(Age/5.00)*5 + 5 as bucket_ceiling \\\n",
    "        FROM train \\\n",
    "     ) a \\\n",
    "     GROUP BY 1, 2 \\\n",
    "     ORDER BY 1\")\n",
    "\n",
    "age_hist.show(n=age_hist.count())\n"
   ]
  },
  {
   "cell_type": "code",
   "execution_count": 24,
   "metadata": {
    "collapsed": true
   },
   "outputs": [],
   "source": [
    "def get_column(df, colname):\n",
    "    coldata = df.rdd.map(lambda r: r[colname]).collect()\n",
    "    coldata = ['None' if v is None else v for v in coldata] #replace None values\n",
    "    return(coldata)\n",
    "\n",
    "age = get_column(age_hist, \"bucket_name\")\n",
    "count = get_column(age_hist, \"count\")"
   ]
  },
  {
   "cell_type": "code",
   "execution_count": 25,
   "metadata": {
    "collapsed": false
   },
   "outputs": [
    {
     "data": {
      "image/png": "[encoded data removed]",
      "text/plain": [
       "<matplotlib.figure.Figure at 0x7f56b2a47210>"
      ]
     },
     "metadata": {},
     "output_type": "display_data"
    }
   ],
   "source": [
    "%matplotlib inline\n",
    "\n",
    "barplt = sns.barplot(age, count)"
   ]
  },
  {
   "cell_type": "code",
   "execution_count": 26,
   "metadata": {
    "collapsed": false
   },
   "outputs": [
    {
     "data": {
      "image/png": "[encoded data removed]",
      "text/plain": [
       "<matplotlib.figure.Figure at 0x7f56b2845050>"
      ]
     },
     "metadata": {},
     "output_type": "display_data"
    }
   ],
   "source": [
    "%matplotlib inline\n",
    "\n",
    "barplt = sns.barplot(age, count)\n",
    "for item in barplt.get_xticklabels():\n",
    "    item.set_rotation(45)"
   ]
  },
  {
   "cell_type": "markdown",
   "metadata": {},
   "source": [
    "#### Histogram Function"
   ]
  },
  {
   "cell_type": "code",
   "execution_count": 27,
   "metadata": {
    "collapsed": false
   },
   "outputs": [],
   "source": [
    "def get_column(df, colname):\n",
    "    coldata = df.rdd.map(lambda r: r[colname]).collect()\n",
    "    coldata = ['None' if v is None else v for v in coldata] #replace None values\n",
    "    return(coldata)\n",
    "\n",
    "def histplot(dfname, colname, binsize):\n",
    "    binsize = str(binsize)\n",
    "    dfname.createOrReplaceTempView(\"tmpDF\")\n",
    "    hist_query = \"SELECT bucket_floor, \\\n",
    "        CONCAT(bucket_floor, ' to ', bucket_ceiling) as bucket_name, \\\n",
    "        count(*) as count \\\n",
    "     FROM ( \\\n",
    "        SELECT floor(\" + colname + \"/\" + binsize + \")*\" + binsize + \" as bucket_floor, \\\n",
    "            floor(\" + colname + \"/\" + binsize + \")*\" + binsize + \" + \" + binsize + \" as bucket_ceiling \\\n",
    "        FROM tmpDF \\\n",
    "     ) a \\\n",
    "     GROUP BY 1, 2 \\\n",
    "     ORDER BY 1\"\n",
    "    hist_data = spark.sql(hist_query)\n",
    "    xvar = get_column(hist_data, \"bucket_name\")\n",
    "    count = get_column(hist_data, \"count\")\n",
    "    barplt = sns.barplot(xvar, count)\n",
    "    for item in barplt.get_xticklabels():\n",
    "        item.set_rotation(45)\n",
    "    return(barplt)"
   ]
  },
  {
   "cell_type": "code",
   "execution_count": 28,
   "metadata": {
    "collapsed": false
   },
   "outputs": [
    {
     "data": {
      "text/plain": [
       "pyspark.sql.dataframe.DataFrame"
      ]
     },
     "execution_count": 28,
     "metadata": {},
     "output_type": "execute_result"
    }
   ],
   "source": [
    "type(df)"
   ]
  },
  {
   "cell_type": "code",
   "execution_count": 29,
   "metadata": {
    "collapsed": false
   },
   "outputs": [
    {
     "data": {
      "text/plain": [
       "<matplotlib.axes._subplots.AxesSubplot at 0x7f56b1023790>"
      ]
     },
     "execution_count": 29,
     "metadata": {},
     "output_type": "execute_result"
    },
    {
     "data": {
      "image/png": "[encoded data removed]",
      "text/plain": [
       "<matplotlib.figure.Figure at 0x7f56b0e99bd0>"
      ]
     },
     "metadata": {},
     "output_type": "display_data"
    }
   ],
   "source": [
    "histplot(df, \"Age\", 5)"
   ]
  },
  {
   "cell_type": "code",
   "execution_count": 30,
   "metadata": {
    "collapsed": false
   },
   "outputs": [
    {
     "data": {
      "text/plain": [
       "<matplotlib.axes._subplots.AxesSubplot at 0x7f56b0d0df50>"
      ]
     },
     "execution_count": 30,
     "metadata": {},
     "output_type": "execute_result"
    },
    {
     "data": {
      "image/png": "[encoded data removed]",
      "text/plain": [
       "<matplotlib.figure.Figure at 0x7f56b0cc6810>"
      ]
     },
     "metadata": {},
     "output_type": "display_data"
    }
   ],
   "source": [
    "histplot(df, \"Age\", 10)"
   ]
  },
  {
   "cell_type": "markdown",
   "metadata": {},
   "source": [
    "#### All Histograms"
   ]
  },
  {
   "cell_type": "markdown",
   "metadata": {},
   "source": [
    "* Play with various binsizes"
   ]
  },
  {
   "cell_type": "code",
   "execution_count": 31,
   "metadata": {
    "collapsed": false
   },
   "outputs": [
    {
     "name": "stdout",
     "output_type": "stream",
     "text": [
      "root\n",
      " |-- Name: string (nullable = true)\n",
      " |-- Sex: string (nullable = true)\n",
      " |-- Ticket: string (nullable = true)\n",
      " |-- Cabin: string (nullable = true)\n",
      " |-- Embarked: string (nullable = true)\n",
      " |-- Mark: string (nullable = false)\n",
      " |-- PassengerId: integer (nullable = true)\n",
      " |-- Pclass: integer (nullable = true)\n",
      " |-- SibSp: integer (nullable = true)\n",
      " |-- Parch: integer (nullable = true)\n",
      " |-- Survived: integer (nullable = true)\n",
      " |-- Age: float (nullable = true)\n",
      " |-- Fare: float (nullable = true)\n",
      "\n"
     ]
    }
   ],
   "source": [
    "df.printSchema()"
   ]
  },
  {
   "cell_type": "code",
   "execution_count": 32,
   "metadata": {
    "collapsed": false
   },
   "outputs": [
    {
     "data": {
      "text/plain": [
       "<matplotlib.axes._subplots.AxesSubplot at 0x7f56b0b4e890>"
      ]
     },
     "execution_count": 32,
     "metadata": {},
     "output_type": "execute_result"
    },
    {
     "data": {
      "image/png": "[encoded data removed]",
      "text/plain": [
       "<matplotlib.figure.Figure at 0x7f56b0b934d0>"
      ]
     },
     "metadata": {},
     "output_type": "display_data"
    }
   ],
   "source": [
    "histplot(df, \"Age\", 5)"
   ]
  },
  {
   "cell_type": "code",
   "execution_count": 33,
   "metadata": {
    "collapsed": false
   },
   "outputs": [
    {
     "data": {
      "text/plain": [
       "<matplotlib.axes._subplots.AxesSubplot at 0x7f56b0a6d8d0>"
      ]
     },
     "execution_count": 33,
     "metadata": {},
     "output_type": "execute_result"
    },
    {
     "data": {
      "image/png": "[encoded data removed]",
      "text/plain": [
       "<matplotlib.figure.Figure at 0x7f56b0a19d10>"
      ]
     },
     "metadata": {},
     "output_type": "display_data"
    }
   ],
   "source": [
    "histplot(df, \"Survived\", 5)"
   ]
  },
  {
   "cell_type": "code",
   "execution_count": 34,
   "metadata": {
    "collapsed": false
   },
   "outputs": [
    {
     "data": {
      "text/plain": [
       "<matplotlib.axes._subplots.AxesSubplot at 0x7f56b098a9d0>"
      ]
     },
     "execution_count": 34,
     "metadata": {},
     "output_type": "execute_result"
    },
    {
     "data": {
      "image/png": "[encoded data removed]",
      "text/plain": [
       "<matplotlib.figure.Figure at 0x7f56b09a1350>"
      ]
     },
     "metadata": {},
     "output_type": "display_data"
    }
   ],
   "source": [
    "histplot(df, \"Survived\", 1)"
   ]
  },
  {
   "cell_type": "code",
   "execution_count": 35,
   "metadata": {
    "collapsed": false
   },
   "outputs": [
    {
     "data": {
      "text/plain": [
       "<matplotlib.axes._subplots.AxesSubplot at 0x7f56b08a3fd0>"
      ]
     },
     "execution_count": 35,
     "metadata": {},
     "output_type": "execute_result"
    },
    {
     "data": {
      "image/png": "[encoded data removed]",
      "text/plain": [
       "<matplotlib.figure.Figure at 0x7f56b0932d90>"
      ]
     },
     "metadata": {},
     "output_type": "display_data"
    }
   ],
   "source": [
    "histplot(df, \"Pclass\", 1)"
   ]
  },
  {
   "cell_type": "code",
   "execution_count": 36,
   "metadata": {
    "collapsed": false
   },
   "outputs": [
    {
     "data": {
      "text/plain": [
       "<matplotlib.axes._subplots.AxesSubplot at 0x7f56b07875d0>"
      ]
     },
     "execution_count": 36,
     "metadata": {},
     "output_type": "execute_result"
    },
    {
     "data": {
      "image/png": "[encoded data removed]",
      "text/plain": [
       "<matplotlib.figure.Figure at 0x7f56b07f23d0>"
      ]
     },
     "metadata": {},
     "output_type": "display_data"
    }
   ],
   "source": [
    "histplot(df, \"SibSp\", 1)"
   ]
  },
  {
   "cell_type": "code",
   "execution_count": 37,
   "metadata": {
    "collapsed": false
   },
   "outputs": [
    {
     "data": {
      "text/plain": [
       "<matplotlib.axes._subplots.AxesSubplot at 0x7f56b07f2a50>"
      ]
     },
     "execution_count": 37,
     "metadata": {},
     "output_type": "execute_result"
    },
    {
     "data": {
      "image/png": "[encoded data removed]",
      "text/plain": [
       "<matplotlib.figure.Figure at 0x7f56b08c8650>"
      ]
     },
     "metadata": {},
     "output_type": "display_data"
    }
   ],
   "source": [
    "histplot(df, \"Parch\", 1)"
   ]
  },
  {
   "cell_type": "code",
   "execution_count": 38,
   "metadata": {
    "collapsed": false
   },
   "outputs": [
    {
     "data": {
      "text/plain": [
       "<matplotlib.axes._subplots.AxesSubplot at 0x7f56b2845950>"
      ]
     },
     "execution_count": 38,
     "metadata": {},
     "output_type": "execute_result"
    },
    {
     "data": {
      "image/png": "[encoded data removed]",
      "text/plain": [
       "<matplotlib.figure.Figure at 0x7f56b068ee90>"
      ]
     },
     "metadata": {},
     "output_type": "display_data"
    }
   ],
   "source": [
    "histplot(df, \"Age\", 5)"
   ]
  },
  {
   "cell_type": "code",
   "execution_count": 39,
   "metadata": {
    "collapsed": false
   },
   "outputs": [
    {
     "data": {
      "text/plain": [
       "<matplotlib.axes._subplots.AxesSubplot at 0x7f56b05faf50>"
      ]
     },
     "execution_count": 39,
     "metadata": {},
     "output_type": "execute_result"
    },
    {
     "data": {
      "image/png": "[encoded data removed]",
      "text/plain": [
       "<matplotlib.figure.Figure at 0x7f56b0630250>"
      ]
     },
     "metadata": {},
     "output_type": "display_data"
    }
   ],
   "source": [
    "histplot(df, \"Fare\", 5)"
   ]
  },
  {
   "cell_type": "code",
   "execution_count": 40,
   "metadata": {
    "collapsed": false
   },
   "outputs": [
    {
     "data": {
      "text/plain": [
       "<matplotlib.axes._subplots.AxesSubplot at 0x7f56b05bd8d0>"
      ]
     },
     "execution_count": 40,
     "metadata": {},
     "output_type": "execute_result"
    },
    {
     "data": {
      "image/png": "[encoded data removed]",
      "text/plain": [
       "<matplotlib.figure.Figure at 0x7f56b04e7b50>"
      ]
     },
     "metadata": {},
     "output_type": "display_data"
    }
   ],
   "source": [
    "histplot(df, \"Fare\", 10)"
   ]
  },
  {
   "cell_type": "markdown",
   "metadata": {},
   "source": [
    "Let's test with a categorical variable."
   ]
  },
  {
   "cell_type": "code",
   "execution_count": 41,
   "metadata": {
    "collapsed": false
   },
   "outputs": [
    {
     "data": {
      "text/plain": [
       "<matplotlib.axes._subplots.AxesSubplot at 0x7f56b01b3d10>"
      ]
     },
     "execution_count": 41,
     "metadata": {},
     "output_type": "execute_result"
    },
    {
     "data": {
      "image/png": "[encoded data removed]",
      "text/plain": [
       "<matplotlib.figure.Figure at 0x7f56b016b310>"
      ]
     },
     "metadata": {},
     "output_type": "display_data"
    }
   ],
   "source": [
    "histplot(trainDF, \"Embarked\", 1)"
   ]
  },
  {
   "cell_type": "code",
   "execution_count": 42,
   "metadata": {
    "collapsed": true
   },
   "outputs": [],
   "source": [
    "def histplot_s(df, colname):\n",
    "    xvar = get_column(df, colname)\n",
    "    counter = collections.Counter(xvar)\n",
    "    barplt = sns.barplot(list(counter.keys()), list(counter.values()))\n",
    "    for item in barplt.get_xticklabels():\n",
    "        item.set_rotation(45)\n",
    "    return(barplt)"
   ]
  },
  {
   "cell_type": "code",
   "execution_count": 43,
   "metadata": {
    "collapsed": false
   },
   "outputs": [
    {
     "data": {
      "text/plain": [
       "<matplotlib.axes._subplots.AxesSubplot at 0x7f56b00f68d0>"
      ]
     },
     "execution_count": 43,
     "metadata": {},
     "output_type": "execute_result"
    },
    {
     "data": {
      "image/png": "[encoded data removed]",
      "text/plain": [
       "<matplotlib.figure.Figure at 0x7f56b00e40d0>"
      ]
     },
     "metadata": {},
     "output_type": "display_data"
    }
   ],
   "source": [
    "histplot_s(df, \"Sex\")"
   ]
  },
  {
   "cell_type": "code",
   "execution_count": 44,
   "metadata": {
    "collapsed": false
   },
   "outputs": [
    {
     "data": {
      "text/plain": [
       "<matplotlib.axes._subplots.AxesSubplot at 0x7f56b00f67d0>"
      ]
     },
     "execution_count": 44,
     "metadata": {},
     "output_type": "execute_result"
    },
    {
     "data": {
      "image/png": "[encoded data removed]",
      "text/plain": [
       "<matplotlib.figure.Figure at 0x7f56a9f492d0>"
      ]
     },
     "metadata": {},
     "output_type": "display_data"
    }
   ],
   "source": [
    "histplot_s(df, \"Embarked\")"
   ]
  },
  {
   "cell_type": "markdown",
   "metadata": {},
   "source": [
    "#### Correlations"
   ]
  },
  {
   "cell_type": "code",
   "execution_count": 45,
   "metadata": {
    "collapsed": false
   },
   "outputs": [
    {
     "data": {
      "text/plain": [
       "0.21349686667435705"
      ]
     },
     "execution_count": 45,
     "metadata": {},
     "output_type": "execute_result"
    }
   ],
   "source": [
    "df.corr(\"Age\", \"Fare\")"
   ]
  },
  {
   "cell_type": "code",
   "execution_count": 46,
   "metadata": {
    "collapsed": false
   },
   "outputs": [
    {
     "data": {
      "text/plain": [
       "0.005296468730662053"
      ]
     },
     "execution_count": 46,
     "metadata": {},
     "output_type": "execute_result"
    }
   ],
   "source": [
    "df.corr(\"Age\", \"Survived\")"
   ]
  },
  {
   "cell_type": "code",
   "execution_count": 47,
   "metadata": {
    "collapsed": false
   },
   "outputs": [
    {
     "data": {
      "text/plain": [
       "0.1738945206553876"
      ]
     },
     "execution_count": 47,
     "metadata": {},
     "output_type": "execute_result"
    }
   ],
   "source": [
    "df.corr(\"Fare\", \"Survived\")"
   ]
  },
  {
   "cell_type": "markdown",
   "metadata": {},
   "source": [
    "Currently, only *pearson* is supported."
   ]
  },
  {
   "cell_type": "markdown",
   "metadata": {},
   "source": [
    "### Missing Value Imputation"
   ]
  },
  {
   "cell_type": "code",
   "execution_count": 48,
   "metadata": {
    "collapsed": false
   },
   "outputs": [],
   "source": [
    "numVars = ['Survived','Age','SibSp','Parch','Fare']\n",
    "stringVars = ['Cabin', 'Embarked', 'Pclass', 'Sex']\n",
    "\n",
    "def countNull(df,var):\n",
    "    return df.where(df[var].isNull()).count()\n",
    "\n",
    "def countEmptyString(df,var):\n",
    "    return df[df[var].isin(\"\")].count()\n",
    "\n",
    "def countZero(df,var):\n",
    "    return df[df[var].isin(0)].count()"
   ]
  },
  {
   "cell_type": "code",
   "execution_count": 49,
   "metadata": {
    "collapsed": false
   },
   "outputs": [
    {
     "data": {
      "text/plain": [
       "{'Age': 263,\n",
       " 'Cabin': 1014,\n",
       " 'Embarked': 2,\n",
       " 'Fare': 1,\n",
       " 'Mark': 0,\n",
       " 'Name': 0,\n",
       " 'Parch': 0,\n",
       " 'PassengerId': 0,\n",
       " 'Pclass': 0,\n",
       " 'Sex': 0,\n",
       " 'SibSp': 0,\n",
       " 'Survived': 0,\n",
       " 'Ticket': 0}"
      ]
     },
     "execution_count": 49,
     "metadata": {},
     "output_type": "execute_result"
    }
   ],
   "source": [
    "missing = {var: countNull(df,var) for var in df.columns}\n",
    "missing"
   ]
  },
  {
   "cell_type": "code",
   "execution_count": 50,
   "metadata": {
    "collapsed": false
   },
   "outputs": [
    {
     "data": {
      "text/plain": [
       "{'Age': 0,\n",
       " 'Cabin': 0,\n",
       " 'Embarked': 0,\n",
       " 'Fare': 0,\n",
       " 'Mark': 0,\n",
       " 'Name': 0,\n",
       " 'Parch': 0,\n",
       " 'PassengerId': 0,\n",
       " 'Pclass': 0,\n",
       " 'Sex': 0,\n",
       " 'SibSp': 0,\n",
       " 'Survived': 0,\n",
       " 'Ticket': 0}"
      ]
     },
     "execution_count": 50,
     "metadata": {},
     "output_type": "execute_result"
    }
   ],
   "source": [
    "missing = {var: countEmptyString(df, var) for var in df.columns}\n",
    "missing"
   ]
  },
  {
   "cell_type": "code",
   "execution_count": 51,
   "metadata": {
    "collapsed": false
   },
   "outputs": [
    {
     "data": {
      "text/plain": [
       "{'Age': 0,\n",
       " 'Cabin': 0,\n",
       " 'Embarked': 0,\n",
       " 'Fare': 17,\n",
       " 'Mark': 0,\n",
       " 'Name': 0,\n",
       " 'Parch': 1002,\n",
       " 'PassengerId': 0,\n",
       " 'Pclass': 0,\n",
       " 'Sex': 0,\n",
       " 'SibSp': 891,\n",
       " 'Survived': 967,\n",
       " 'Ticket': 0}"
      ]
     },
     "execution_count": 51,
     "metadata": {},
     "output_type": "execute_result"
    }
   ],
   "source": [
    "missing = {var: countZero(df, var) for var in df.columns}\n",
    "missing"
   ]
  },
  {
   "cell_type": "code",
   "execution_count": 52,
   "metadata": {
    "collapsed": false
   },
   "outputs": [
    {
     "data": {
      "text/plain": [
       "Row(avg(Age)=29.881137667305726)"
      ]
     },
     "execution_count": 52,
     "metadata": {},
     "output_type": "execute_result"
    }
   ],
   "source": [
    "age_mean = df.groupBy().mean('Age').first()\n",
    "age_mean"
   ]
  },
  {
   "cell_type": "code",
   "execution_count": 53,
   "metadata": {
    "collapsed": false
   },
   "outputs": [
    {
     "data": {
      "text/plain": [
       "29.881137667305726"
      ]
     },
     "execution_count": 53,
     "metadata": {},
     "output_type": "execute_result"
    }
   ],
   "source": [
    "age_mean[0]"
   ]
  },
  {
   "cell_type": "code",
   "execution_count": 54,
   "metadata": {
    "collapsed": false
   },
   "outputs": [
    {
     "data": {
      "text/plain": [
       "(29.881137667305726, 33.29547938203228)"
      ]
     },
     "execution_count": 54,
     "metadata": {},
     "output_type": "execute_result"
    }
   ],
   "source": [
    "age_mean = df.groupBy().mean('Age').first()[0]\n",
    "fare_mean = df.groupBy().mean('Fare').first()[0]\n",
    "age_mean, fare_mean"
   ]
  },
  {
   "cell_type": "code",
   "execution_count": 55,
   "metadata": {
    "collapsed": false
   },
   "outputs": [],
   "source": [
    "import pyspark.sql.functions as F\n",
    "from pyspark.sql.functions import count, col \n",
    "def mode_spark(df, column):\n",
    "    # Group by column and count the number of occurrences\n",
    "    # of each x value\n",
    "    counts = df.groupBy(column).count()\n",
    "\n",
    "    # - Find the maximum value in the 'counts' column\n",
    "    # - Join with the counts dataframe to select the row\n",
    "    #   with the maximum count\n",
    "    # - Select the first element of this dataframe and\n",
    "    #   take the value in column\n",
    "    mode = counts.join(\n",
    "        counts.agg(F.max('count').alias('count')),\n",
    "        on='count'\n",
    "    ).limit(1).select(column)\n",
    "\n",
    "    return mode.first()[column]"
   ]
  },
  {
   "cell_type": "code",
   "execution_count": 56,
   "metadata": {
    "collapsed": false
   },
   "outputs": [],
   "source": [
    "Embarked_mode = mode_spark(df, 'Embarked')"
   ]
  },
  {
   "cell_type": "code",
   "execution_count": 57,
   "metadata": {
    "collapsed": false
   },
   "outputs": [],
   "source": [
    "df = df.na.fill({'Age':age_mean,'Fare':fare_mean, 'Embarked':Embarked_mode})"
   ]
  },
  {
   "cell_type": "markdown",
   "metadata": {},
   "source": [
    "**What is wrong with what I just did?**"
   ]
  },
  {
   "cell_type": "markdown",
   "metadata": {},
   "source": [
    "### Outlier Treatment"
   ]
  },
  {
   "cell_type": "markdown",
   "metadata": {},
   "source": [
    "* Univariate\n",
    "    - Winsorization\n",
    "* Multivariate\n",
    "\n",
    "* Is it a good idea?\n",
    "* Know your data"
   ]
  },
  {
   "cell_type": "markdown",
   "metadata": {},
   "source": [
    "## Feature Engineering"
   ]
  },
  {
   "cell_type": "markdown",
   "metadata": {},
   "source": [
    "### Applying Domain Expertise"
   ]
  },
  {
   "cell_type": "code",
   "execution_count": 58,
   "metadata": {
    "collapsed": false
   },
   "outputs": [
    {
     "name": "stdout",
     "output_type": "stream",
     "text": [
      "+--------------------+---------------+\n",
      "|                Name|          Title|\n",
      "+--------------------+---------------+\n",
      "|Braund, Mr. Owen ...|     Braund, Mr|\n",
      "|Cumings, Mrs. Joh...|   Cumings, Mrs|\n",
      "|Heikkinen, Miss. ...|Heikkinen, Miss|\n",
      "|Futrelle, Mrs. Ja...|  Futrelle, Mrs|\n",
      "|Allen, Mr. Willia...|      Allen, Mr|\n",
      "+--------------------+---------------+\n",
      "only showing top 5 rows\n",
      "\n"
     ]
    }
   ],
   "source": [
    "from pyspark.sql.functions import udf\n",
    "from pyspark.sql.types import StringType\n",
    " \n",
    "## create user defined function to extract title\n",
    "getTitle = udf(lambda name: name.split('.')[0].strip(), StringType())\n",
    "df = df.withColumn('Title', getTitle(df['Name']))\n",
    " \n",
    "df.select('Name','Title').show(5)"
   ]
  },
  {
   "cell_type": "code",
   "execution_count": 59,
   "metadata": {
    "collapsed": false
   },
   "outputs": [
    {
     "name": "stdout",
     "output_type": "stream",
     "text": [
      "+--------------------+-----+\n",
      "|                Name|Title|\n",
      "+--------------------+-----+\n",
      "|Braund, Mr. Owen ...|   Mr|\n",
      "|Cumings, Mrs. Joh...|  Mrs|\n",
      "|Heikkinen, Miss. ...| Miss|\n",
      "|Futrelle, Mrs. Ja...|  Mrs|\n",
      "|Allen, Mr. Willia...|   Mr|\n",
      "+--------------------+-----+\n",
      "only showing top 5 rows\n",
      "\n"
     ]
    }
   ],
   "source": [
    "getTitle = udf(lambda name: name.split('.')[0].split(',')[1].strip(), StringType())\n",
    "df = df.withColumn('Title', getTitle(df['Name']))\n",
    " \n",
    "df.select('Name','Title').show(5)"
   ]
  },
  {
   "cell_type": "markdown",
   "metadata": {},
   "source": [
    "### Categorical Variable treatment"
   ]
  },
  {
   "cell_type": "markdown",
   "metadata": {},
   "source": [
    "**Some algorithms can handle categorical variables directly, some can't.**"
   ]
  },
  {
   "cell_type": "markdown",
   "metadata": {},
   "source": [
    "* Label Encoder\n",
    "    - It is used to transform non-numerical labels to numerical labels (or nominal categorical variables)\n",
    "    - Numerical labels are always between 0 and n_classes-1\n",
    "    - May introduce spurious relationship\n",
    "        * Age and City\n",
    "* One Hot Encoding\n",
    "    - Encodes categorical integer features using a one-hot aka one-of-K scheme\n",
    "    - Preferable"
   ]
  },
  {
   "cell_type": "markdown",
   "metadata": {},
   "source": [
    "#### Label Encoding (Indexing)"
   ]
  },
  {
   "cell_type": "code",
   "execution_count": 60,
   "metadata": {
    "collapsed": true
   },
   "outputs": [],
   "source": [
    "catVars = ['Pclass','Sex','Embarked','Title']"
   ]
  },
  {
   "cell_type": "code",
   "execution_count": 61,
   "metadata": {
    "collapsed": true
   },
   "outputs": [],
   "source": [
    " \n",
    "## index Sex variable\n",
    "si = StringIndexer(inputCol = 'Pclass', outputCol = 'Pclass_indexed')\n",
    "df_indexed = si.fit(df).transform(df)"
   ]
  },
  {
   "cell_type": "code",
   "execution_count": 62,
   "metadata": {
    "collapsed": true
   },
   "outputs": [],
   "source": [
    "si = StringIndexer(inputCol = 'Sex', outputCol = 'Sex_indexed')\n",
    "df_indexed = si.fit(df_indexed).transform(df_indexed)"
   ]
  },
  {
   "cell_type": "code",
   "execution_count": 63,
   "metadata": {
    "collapsed": true
   },
   "outputs": [],
   "source": [
    "si = StringIndexer(inputCol = 'Embarked', outputCol = 'Embarked_indexed')\n",
    "df_indexed = si.fit(df_indexed).transform(df_indexed)"
   ]
  },
  {
   "cell_type": "code",
   "execution_count": 64,
   "metadata": {
    "collapsed": true
   },
   "outputs": [],
   "source": [
    "si = StringIndexer(inputCol = 'Title', outputCol = 'Title_indexed')\n",
    "df_indexed = si.fit(df_indexed).transform(df_indexed)"
   ]
  },
  {
   "cell_type": "raw",
   "metadata": {},
   "source": [
    "from pyspark.ml import Pipeline\n",
    "from pyspark.ml.feature import StringIndexer\n",
    "\n",
    "indexers = [StringIndexer(inputCol=column, outputCol=column+\"_index\").fit(df) for column in catVars ]\n",
    "\n",
    "\n",
    "pipeline = Pipeline(stages=indexers)\n",
    "df_indexed = pipeline.fit(df).transform(df)"
   ]
  },
  {
   "cell_type": "code",
   "execution_count": 65,
   "metadata": {
    "collapsed": false
   },
   "outputs": [
    {
     "name": "stdout",
     "output_type": "stream",
     "text": [
      "+--------+----------------+\n",
      "|Embarked|Embarked_indexed|\n",
      "+--------+----------------+\n",
      "|       S|             0.0|\n",
      "|       C|             1.0|\n",
      "|       S|             0.0|\n",
      "+--------+----------------+\n",
      "only showing top 3 rows\n",
      "\n"
     ]
    }
   ],
   "source": [
    "df_indexed.select('Embarked','Embarked_indexed').show(3)"
   ]
  },
  {
   "cell_type": "markdown",
   "metadata": {},
   "source": [
    "* The categorical features are indexed in resulting data\n",
    "* Embarked is mapped S=>0, C=>1, Q=>2"
   ]
  },
  {
   "cell_type": "markdown",
   "metadata": {},
   "source": [
    "#### StringIndexer\n",
    "\n",
    "* Maps a string column of labels to a column of label indices\n",
    "* If the input column is numeric, we cast it to string and index the string values\n",
    "* The indices are in [0, numLabels), ordered by label frequencies\n",
    "    - So the most frequent label gets index 0."
   ]
  },
  {
   "cell_type": "markdown",
   "metadata": {},
   "source": [
    "#### Transformer\n",
    "\n",
    "* transform one dataset into another"
   ]
  },
  {
   "cell_type": "markdown",
   "metadata": {},
   "source": [
    "#### Estimator\n",
    "\n",
    "* fit models to data"
   ]
  },
  {
   "cell_type": "markdown",
   "metadata": {},
   "source": [
    "#### Pipelines\n",
    "\n",
    " \n",
    "* A Pipeline consists of a sequence of stages, each of which is either an Estimator or a Transformer\n",
    "* When Pipeline.fit() is called, the stages are executed in order\n",
    "    - If a stage is an Estimator, its Estimator.fit() method will be called on the input dataset to fit a model\n",
    "        * Then the model, which is a transformer, will be used to transform the dataset as the input to the next stage\n",
    "    - If a stage is a Transformer, its Transformer.transform() method will be called to produce the dataset for the next stage\n",
    "* The fitted model from a Pipeline is a PipelineModel, which consists of fitted models and transformers, corresponding to the pipeline stages\n",
    "* If there are no stages, the pipeline acts as an identity transformer."
   ]
  },
  {
   "cell_type": "markdown",
   "metadata": {},
   "source": [
    "### Timeseries Variable treatments"
   ]
  },
  {
   "cell_type": "markdown",
   "metadata": {},
   "source": [
    "* Shattering\n",
    "* No time/day variables here"
   ]
  },
  {
   "cell_type": "markdown",
   "metadata": {},
   "source": [
    "## Data format translation"
   ]
  },
  {
   "cell_type": "markdown",
   "metadata": {},
   "source": [
    "* In this step, we get the data in the format or data type expected by the algorithms\n",
    "* In the case of Spark MLlib, this includes \n",
    "    - local vector\n",
    "    - dense or sparse vectors\n",
    "    - labeled points\n",
    "    - local matrix\n",
    "    - distributed matrix with row matrix\n",
    "    - indexed row matrix\n",
    "    - coordinate matrix\n",
    "    - block matrix"
   ]
  },
  {
   "cell_type": "markdown",
   "metadata": {},
   "source": [
    "In our case, we need convert features to Vectors (either SparseVector or DenseVector)."
   ]
  },
  {
   "cell_type": "code",
   "execution_count": 66,
   "metadata": {
    "collapsed": true
   },
   "outputs": [],
   "source": [
    "from pyspark.sql import Row\n",
    "from pyspark.ml.linalg import DenseVector"
   ]
  },
  {
   "cell_type": "code",
   "execution_count": 67,
   "metadata": {
    "collapsed": false
   },
   "outputs": [
    {
     "data": {
      "text/plain": [
       "['Pclass_indexed', 'Sex_indexed', 'Embarked_indexed', 'Title_indexed']"
      ]
     },
     "execution_count": 67,
     "metadata": {},
     "output_type": "execute_result"
    }
   ],
   "source": [
    "catVarsIndexed = [i + '_indexed' for i in catVars]\n",
    "catVarsIndexed"
   ]
  },
  {
   "cell_type": "code",
   "execution_count": 68,
   "metadata": {
    "collapsed": false
   },
   "outputs": [
    {
     "data": {
      "text/plain": [
       "['Survived',\n",
       " 'Age',\n",
       " 'SibSp',\n",
       " 'Parch',\n",
       " 'Fare',\n",
       " 'Pclass_indexed',\n",
       " 'Sex_indexed',\n",
       " 'Embarked_indexed',\n",
       " 'Title_indexed']"
      ]
     },
     "execution_count": 68,
     "metadata": {},
     "output_type": "execute_result"
    }
   ],
   "source": [
    "featuresCol = numVars + catVarsIndexed\n",
    "featuresCol"
   ]
  },
  {
   "cell_type": "code",
   "execution_count": 69,
   "metadata": {
    "collapsed": false
   },
   "outputs": [
    {
     "data": {
      "text/plain": [
       "['Age',\n",
       " 'SibSp',\n",
       " 'Parch',\n",
       " 'Fare',\n",
       " 'Pclass_indexed',\n",
       " 'Sex_indexed',\n",
       " 'Embarked_indexed',\n",
       " 'Title_indexed']"
      ]
     },
     "execution_count": 69,
     "metadata": {},
     "output_type": "execute_result"
    }
   ],
   "source": [
    "featuresCol.remove('Survived')\n",
    "featuresCol"
   ]
  },
  {
   "cell_type": "code",
   "execution_count": 70,
   "metadata": {
    "collapsed": false
   },
   "outputs": [
    {
     "data": {
      "text/plain": [
       "['Mark', 'Survived']"
      ]
     },
     "execution_count": 70,
     "metadata": {},
     "output_type": "execute_result"
    }
   ],
   "source": [
    "labelCol = ['Mark','Survived']\n",
    "labelCol"
   ]
  },
  {
   "cell_type": "code",
   "execution_count": 71,
   "metadata": {
    "collapsed": false
   },
   "outputs": [
    {
     "data": {
      "text/plain": [
       "<Row(mark, label, features)>"
      ]
     },
     "execution_count": 71,
     "metadata": {},
     "output_type": "execute_result"
    }
   ],
   "source": [
    "row = Row('mark','label','features') \n",
    "row"
   ]
  },
  {
   "cell_type": "code",
   "execution_count": 72,
   "metadata": {
    "collapsed": false
   },
   "outputs": [
    {
     "data": {
      "text/plain": [
       "['Name',\n",
       " 'Sex',\n",
       " 'Ticket',\n",
       " 'Cabin',\n",
       " 'Embarked',\n",
       " 'Mark',\n",
       " 'PassengerId',\n",
       " 'Pclass',\n",
       " 'SibSp',\n",
       " 'Parch',\n",
       " 'Survived',\n",
       " 'Age',\n",
       " 'Fare',\n",
       " 'Title',\n",
       " 'Pclass_indexed',\n",
       " 'Sex_indexed',\n",
       " 'Embarked_indexed',\n",
       " 'Title_indexed']"
      ]
     },
     "execution_count": 72,
     "metadata": {},
     "output_type": "execute_result"
    }
   ],
   "source": [
    "df_indexed.columns"
   ]
  },
  {
   "cell_type": "code",
   "execution_count": 73,
   "metadata": {
    "collapsed": false
   },
   "outputs": [
    {
     "data": {
      "text/plain": [
       "DataFrame[Mark: string, Survived: int, Age: float, SibSp: int, Parch: int, Fare: float, Pclass_indexed: double, Sex_indexed: double, Embarked_indexed: double, Title_indexed: double]"
      ]
     },
     "execution_count": 73,
     "metadata": {},
     "output_type": "execute_result"
    }
   ],
   "source": [
    "df_indexed = df_indexed[labelCol + featuresCol]\n",
    "df_indexed"
   ]
  },
  {
   "cell_type": "code",
   "execution_count": 74,
   "metadata": {
    "collapsed": false
   },
   "outputs": [
    {
     "name": "stdout",
     "output_type": "stream",
     "text": [
      "+-----+-----+--------------------+\n",
      "| mark|label|            features|\n",
      "+-----+-----+--------------------+\n",
      "|train|    0|[22.0,1.0,0.0,7.2...|\n",
      "|train|    1|[38.0,1.0,0.0,71....|\n",
      "|train|    1|[26.0,0.0,0.0,7.9...|\n",
      "|train|    1|[35.0,1.0,0.0,53....|\n",
      "|train|    0|[35.0,0.0,0.0,8.0...|\n",
      "|train|    0|[29.8811378479003...|\n",
      "|train|    0|[54.0,0.0,0.0,51....|\n",
      "|train|    0|[2.0,3.0,1.0,21.0...|\n",
      "|train|    1|[27.0,0.0,2.0,11....|\n",
      "|train|    1|[14.0,1.0,0.0,30....|\n",
      "|train|    1|[4.0,1.0,1.0,16.7...|\n",
      "|train|    1|[58.0,0.0,0.0,26....|\n",
      "|train|    0|[20.0,0.0,0.0,8.0...|\n",
      "|train|    0|[39.0,1.0,5.0,31....|\n",
      "|train|    0|[14.0,0.0,0.0,7.8...|\n",
      "|train|    1|[55.0,0.0,0.0,16....|\n",
      "|train|    0|[2.0,4.0,1.0,29.1...|\n",
      "|train|    1|[29.8811378479003...|\n",
      "|train|    0|[31.0,1.0,0.0,18....|\n",
      "|train|    1|[29.8811378479003...|\n",
      "+-----+-----+--------------------+\n",
      "only showing top 20 rows\n",
      "\n"
     ]
    }
   ],
   "source": [
    "# 0-mark, 1-label, 2-features\n",
    "# map features to DenseVector\n",
    "lf = df_indexed.rdd.map(lambda r: (row(r[0], r[1],DenseVector(r[2:])))).toDF()\n",
    "lf.show()"
   ]
  },
  {
   "cell_type": "code",
   "execution_count": 75,
   "metadata": {
    "collapsed": false
   },
   "outputs": [
    {
     "name": "stdout",
     "output_type": "stream",
     "text": [
      "+-----+-----+--------------------+-----+\n",
      "| mark|label|            features|index|\n",
      "+-----+-----+--------------------+-----+\n",
      "|train|    0|[22.0,1.0,0.0,7.2...|  0.0|\n",
      "|train|    1|[38.0,1.0,0.0,71....|  1.0|\n",
      "|train|    1|[26.0,0.0,0.0,7.9...|  1.0|\n",
      "+-----+-----+--------------------+-----+\n",
      "only showing top 3 rows\n",
      "\n"
     ]
    }
   ],
   "source": [
    "# index label\n",
    "# convert numeric label to categorical, which is required by\n",
    "# decisionTree and randomForest\n",
    "lf = StringIndexer(inputCol = 'label', outputCol='index').fit(lf).transform(lf)\n",
    " \n",
    "lf.show(3)"
   ]
  },
  {
   "cell_type": "markdown",
   "metadata": {},
   "source": [
    "### Split back into train/test data"
   ]
  },
  {
   "cell_type": "code",
   "execution_count": 76,
   "metadata": {
    "collapsed": true
   },
   "outputs": [],
   "source": [
    "train = lf.where(lf.mark =='train')\n",
    "test = lf.where(lf.mark =='test')"
   ]
  },
  {
   "cell_type": "code",
   "execution_count": 77,
   "metadata": {
    "collapsed": true
   },
   "outputs": [],
   "source": [
    "# random split further to get train/validate\n",
    "train, validate = train.randomSplit([0.7,0.3], seed =121)"
   ]
  },
  {
   "cell_type": "code",
   "execution_count": 78,
   "metadata": {
    "collapsed": false
   },
   "outputs": [
    {
     "name": "stdout",
     "output_type": "stream",
     "text": [
      "Train Data Number of Row: 637\n",
      "Validate Data Number of Row: 254\n",
      "Test Data Number of Row: 418\n"
     ]
    }
   ],
   "source": [
    "print('Train Data Number of Row: '+ str(train.count()))\n",
    "print('Validate Data Number of Row: '+ str(validate.count()))\n",
    "print('Test Data Number of Row: '+ str(test.count()))"
   ]
  },
  {
   "cell_type": "markdown",
   "metadata": {},
   "source": [
    "## Modeling"
   ]
  },
  {
   "cell_type": "markdown",
   "metadata": {},
   "source": [
    "* ML is built based on DataFrame, while mllib is based on RDD\n",
    "* We'll fit the logistic, decision tree and random forest models from ML packages"
   ]
  },
  {
   "cell_type": "markdown",
   "metadata": {},
   "source": [
    "#### Logistic Regression"
   ]
  },
  {
   "cell_type": "code",
   "execution_count": null,
   "metadata": {
    "collapsed": false
   },
   "outputs": [],
   "source": [
    "from pyspark.ml.classification import LogisticRegression\n",
    " \n",
    "# regPara: lasso regularisation parameter (L1)\n",
    "lr = LogisticRegression(maxIter = 100, regParam = 0.05, labelCol='index').fit(train)"
   ]
  },
  {
   "cell_type": "code",
   "execution_count": null,
   "metadata": {
    "collapsed": true
   },
   "outputs": [],
   "source": [
    "# Evaluate model based on auc ROC(default for binary classification)\n",
    "from pyspark.ml.evaluation import BinaryClassificationEvaluator\n",
    " \n",
    "def testModel(model, validate = validate):\n",
    "    pred = model.transform(validate)\n",
    "    evaluator = BinaryClassificationEvaluator(labelCol = 'index')\n",
    "    return evaluator.evaluate(pred)"
   ]
  },
  {
   "cell_type": "code",
   "execution_count": null,
   "metadata": {
    "collapsed": false
   },
   "outputs": [],
   "source": [
    "print('AUC ROC of Logistic Regression model is: ' + str(testModel(lr)))"
   ]
  },
  {
   "cell_type": "code",
   "execution_count": null,
   "metadata": {
    "collapsed": false
   },
   "outputs": [],
   "source": [
    "print('AUC ROC of Logistic Regression model is: ' + str(testModel(lr, validate=test)))"
   ]
  },
  {
   "cell_type": "code",
   "execution_count": null,
   "metadata": {
    "collapsed": false
   },
   "outputs": [],
   "source": [
    "pred_test = lr.transform(test)\n",
    "pred_test.show(5)"
   ]
  },
  {
   "cell_type": "markdown",
   "metadata": {},
   "source": [
    "#### More Models"
   ]
  },
  {
   "cell_type": "code",
   "execution_count": null,
   "metadata": {
    "collapsed": false
   },
   "outputs": [],
   "source": [
    "from pyspark.ml.classification import DecisionTreeClassifier, RandomForestClassifier, GBTClassifier\n",
    " \n",
    "dt = DecisionTreeClassifier(maxDepth = 3, labelCol ='index').fit(train)\n",
    "rf = RandomForestClassifier(numTrees = 100, labelCol = 'index').fit(train)\n",
    "gbt = GBTClassifier(maxIter = 10, labelCol = 'index').fit(train)\n"
   ]
  },
  {
   "cell_type": "code",
   "execution_count": null,
   "metadata": {
    "collapsed": false
   },
   "outputs": [],
   "source": [
    "models = {'LogisticRegression':lr,\n",
    "          'DecistionTree':dt,\n",
    "          'RandomForest':rf}\n",
    " \n",
    "modelPerf = {k:testModel(v) for k,v in models.items()}\n",
    "print(modelPerf)"
   ]
  },
  {
   "cell_type": "code",
   "execution_count": null,
   "metadata": {
    "collapsed": false
   },
   "outputs": [],
   "source": [
    "def model_acc(model, validate=validate):\n",
    "    pred = model.transform(validate)\n",
    "    eval_vec = np.array(get_column(pred, \"label\")) == np.array(get_column(pred, \"prediction\")) \n",
    "    return(eval_vec.sum()/len(eval_vec))"
   ]
  },
  {
   "cell_type": "code",
   "execution_count": null,
   "metadata": {
    "collapsed": false
   },
   "outputs": [],
   "source": [
    "model_acc(gbt)"
   ]
  },
  {
   "cell_type": "code",
   "execution_count": null,
   "metadata": {
    "collapsed": false
   },
   "outputs": [],
   "source": [
    "models = {'LogisticRegression':lr,\n",
    "          'DecistionTree':dt,\n",
    "          'RandomForest':rf,\n",
    "          'GradientBoostingMachines':gbt}\n",
    "\n",
    "modelPerf = {k:model_acc(v) for k,v in models.items()}\n",
    "print(modelPerf)"
   ]
  },
  {
   "cell_type": "markdown",
   "metadata": {},
   "source": [
    "#### Tuning"
   ]
  },
  {
   "cell_type": "code",
   "execution_count": null,
   "metadata": {
    "collapsed": false
   },
   "outputs": [],
   "source": [
    "for i in range(10):\n",
    "    dt = DecisionTreeClassifier(maxDepth = i, labelCol ='index').fit(train)\n",
    "    print('AUC ROC of Decision Tree model is' + '(for maxDepth= ' + str(i) + '): ' + str(testModel(dt)))"
   ]
  },
  {
   "cell_type": "code",
   "execution_count": null,
   "metadata": {
    "collapsed": false
   },
   "outputs": [],
   "source": [
    "for i in range(5, 200):\n",
    "    rf = RandomForestClassifier(numTrees = i, labelCol = 'index').fit(train)\n",
    "    print('AUC ROC of Random Forest model is' + '(for numTrees= ' + str(i) + '): ' + str(testModel(rf)))"
   ]
  },
  {
   "cell_type": "markdown",
   "metadata": {},
   "source": []
  },
  {
   "cell_type": "markdown",
   "metadata": {},
   "source": [
    "## Neural Nets"
   ]
  },
  {
   "cell_type": "code",
   "execution_count": 79,
   "metadata": {
    "collapsed": true
   },
   "outputs": [],
   "source": [
    "import tensorflow as tf\n",
    "import tensorframes as tfs"
   ]
  },
  {
   "cell_type": "code",
   "execution_count": 80,
   "metadata": {
    "collapsed": false
   },
   "outputs": [
    {
     "name": "stdout",
     "output_type": "stream",
     "text": [
      "root\n",
      " |-- Name: string (nullable = true) <no tensor info>\n",
      " |-- Sex: string (nullable = true) <no tensor info>\n",
      " |-- Ticket: string (nullable = true) <no tensor info>\n",
      " |-- Cabin: string (nullable = true) <no tensor info>\n",
      " |-- Embarked: string (nullable = false) <no tensor info>\n",
      " |-- Mark: string (nullable = false) <no tensor info>\n",
      " |-- PassengerId: integer (nullable = true) integer[?]\n",
      " |-- Pclass: integer (nullable = true) integer[?]\n",
      " |-- SibSp: integer (nullable = true) integer[?]\n",
      " |-- Parch: integer (nullable = true) integer[?]\n",
      " |-- Survived: integer (nullable = true) integer[?]\n",
      " |-- Age: float (nullable = false) float[?]\n",
      " |-- Fare: float (nullable = false) float[?]\n",
      " |-- Title: string (nullable = true) <no tensor info>\n",
      "\n"
     ]
    }
   ],
   "source": [
    "tfs.print_schema(df)"
   ]
  },
  {
   "cell_type": "code",
   "execution_count": 81,
   "metadata": {
    "collapsed": false
   },
   "outputs": [
    {
     "name": "stdout",
     "output_type": "stream",
     "text": [
      "root\n",
      " |-- Name: string (nullable = true) <no tensor info>\n",
      " |-- Sex: string (nullable = true) <no tensor info>\n",
      " |-- Ticket: string (nullable = true) <no tensor info>\n",
      " |-- Cabin: string (nullable = true) <no tensor info>\n",
      " |-- Embarked: string (nullable = false) <no tensor info>\n",
      " |-- Mark: string (nullable = false) <no tensor info>\n",
      " |-- PassengerId: integer (nullable = true) integer[?]\n",
      " |-- Pclass: integer (nullable = true) integer[?]\n",
      " |-- SibSp: integer (nullable = true) integer[?]\n",
      " |-- Parch: integer (nullable = true) integer[?]\n",
      " |-- Survived: integer (nullable = true) integer[?]\n",
      " |-- Age: float (nullable = false) float[?]\n",
      " |-- Fare: float (nullable = false) float[?]\n",
      " |-- Title: string (nullable = true) <no tensor info>\n",
      "\n"
     ]
    }
   ],
   "source": [
    "# Because the dataframe contains vectors, we need to analyze it first to find the\n",
    "# dimensions of the vectors.\n",
    "df2 = tfs.analyze(df)\n",
    "\n",
    "# The information gathered by TF can be printed to check the content:\n",
    "tfs.print_schema(df2)"
   ]
  },
  {
   "cell_type": "code",
   "execution_count": 82,
   "metadata": {
    "collapsed": true
   },
   "outputs": [],
   "source": [
    "from tensorflow.contrib import learn"
   ]
  },
  {
   "cell_type": "code",
   "execution_count": 84,
   "metadata": {
    "collapsed": true
   },
   "outputs": [],
   "source": [
    "train_2 = tfs.analyze(train)"
   ]
  },
  {
   "cell_type": "code",
   "execution_count": 85,
   "metadata": {
    "collapsed": false
   },
   "outputs": [
    {
     "ename": "AttributeError",
     "evalue": "'DataFrame' object has no attribute 'dtype'",
     "output_type": "error",
     "traceback": [
      "\u001b[0;31m---------------------------------------------------------------------------\u001b[0m",
      "\u001b[0;31mAttributeError\u001b[0m                            Traceback (most recent call last)",
      "\u001b[0;32m<ipython-input-85-c4e0446c02a3>\u001b[0m in \u001b[0;36m<module>\u001b[0;34m()\u001b[0m\n\u001b[1;32m      1\u001b[0m classifier = learn.DNNClassifier(hidden_units=[10, 20, 10], n_classes=2,\n\u001b[0;32m----> 2\u001b[0;31m     \u001b[0mfeature_columns\u001b[0m\u001b[0;34m=\u001b[0m\u001b[0mlearn\u001b[0m\u001b[0;34m.\u001b[0m\u001b[0minfer_real_valued_columns_from_input\u001b[0m\u001b[0;34m(\u001b[0m\u001b[0mtrain_2\u001b[0m\u001b[0;34m)\u001b[0m\u001b[0;34m,\u001b[0m\u001b[0;34m\u001b[0m\u001b[0m\n\u001b[0m\u001b[1;32m      3\u001b[0m     optimizer=tf.train.GradientDescentOptimizer(learning_rate=0.05))\n",
      "\u001b[0;32m/home/canwill/anaconda2/lib/python2.7/site-packages/tensorflow/contrib/learn/python/learn/estimators/estimator.pyc\u001b[0m in \u001b[0;36minfer_real_valued_columns_from_input\u001b[0;34m(x)\u001b[0m\n\u001b[1;32m    171\u001b[0m   \"\"\"\n\u001b[1;32m    172\u001b[0m   input_fn, _ = _get_input_fn(\n\u001b[0;32m--> 173\u001b[0;31m       x=x, y=None, input_fn=None, feed_fn=None, batch_size=None)\n\u001b[0m\u001b[1;32m    174\u001b[0m   \u001b[0;32mreturn\u001b[0m \u001b[0minfer_real_valued_columns_from_input_fn\u001b[0m\u001b[0;34m(\u001b[0m\u001b[0minput_fn\u001b[0m\u001b[0;34m)\u001b[0m\u001b[0;34m\u001b[0m\u001b[0m\n\u001b[1;32m    175\u001b[0m \u001b[0;34m\u001b[0m\u001b[0m\n",
      "\u001b[0;32m/home/canwill/anaconda2/lib/python2.7/site-packages/tensorflow/contrib/learn/python/learn/estimators/estimator.pyc\u001b[0m in \u001b[0;36m_get_input_fn\u001b[0;34m(x, y, input_fn, feed_fn, batch_size, shuffle, epochs)\u001b[0m\n\u001b[1;32m    134\u001b[0m       \u001b[0mbatch_size\u001b[0m\u001b[0;34m=\u001b[0m\u001b[0mbatch_size\u001b[0m\u001b[0;34m,\u001b[0m\u001b[0;34m\u001b[0m\u001b[0m\n\u001b[1;32m    135\u001b[0m       \u001b[0mshuffle\u001b[0m\u001b[0;34m=\u001b[0m\u001b[0mshuffle\u001b[0m\u001b[0;34m,\u001b[0m\u001b[0;34m\u001b[0m\u001b[0m\n\u001b[0;32m--> 136\u001b[0;31m       epochs=epochs)\n\u001b[0m\u001b[1;32m    137\u001b[0m   \u001b[0;32mreturn\u001b[0m \u001b[0mdf\u001b[0m\u001b[0;34m.\u001b[0m\u001b[0minput_builder\u001b[0m\u001b[0;34m,\u001b[0m \u001b[0mdf\u001b[0m\u001b[0;34m.\u001b[0m\u001b[0mget_feed_dict_fn\u001b[0m\u001b[0;34m(\u001b[0m\u001b[0;34m)\u001b[0m\u001b[0;34m\u001b[0m\u001b[0m\n\u001b[1;32m    138\u001b[0m \u001b[0;34m\u001b[0m\u001b[0m\n",
      "\u001b[0;32m/home/canwill/anaconda2/lib/python2.7/site-packages/tensorflow/contrib/learn/python/learn/learn_io/data_feeder.pyc\u001b[0m in \u001b[0;36msetup_train_data_feeder\u001b[0;34m(x, y, n_classes, batch_size, shuffle, epochs)\u001b[0m\n\u001b[1;32m    150\u001b[0m     \u001b[0;32mreturn\u001b[0m \u001b[0mStreamingDataFeeder\u001b[0m\u001b[0;34m(\u001b[0m\u001b[0mx\u001b[0m\u001b[0;34m,\u001b[0m \u001b[0my\u001b[0m\u001b[0;34m,\u001b[0m \u001b[0mn_classes\u001b[0m\u001b[0;34m,\u001b[0m \u001b[0mbatch_size\u001b[0m\u001b[0;34m)\u001b[0m\u001b[0;34m\u001b[0m\u001b[0m\n\u001b[1;32m    151\u001b[0m   return data_feeder_cls(\n\u001b[0;32m--> 152\u001b[0;31m       x, y, n_classes, batch_size, shuffle=shuffle, epochs=epochs)\n\u001b[0m\u001b[1;32m    153\u001b[0m \u001b[0;34m\u001b[0m\u001b[0m\n\u001b[1;32m    154\u001b[0m \u001b[0;34m\u001b[0m\u001b[0m\n",
      "\u001b[0;32m/home/canwill/anaconda2/lib/python2.7/site-packages/tensorflow/contrib/learn/python/learn/learn_io/data_feeder.pyc\u001b[0m in \u001b[0;36m__init__\u001b[0;34m(self, x, y, n_classes, batch_size, shuffle, random_state, epochs)\u001b[0m\n\u001b[1;32m    322\u001b[0m \u001b[0;34m\u001b[0m\u001b[0m\n\u001b[1;32m    323\u001b[0m     self._x = dict([(k, check_array(v, v.dtype)) for k, v in list(x.items())\n\u001b[0;32m--> 324\u001b[0;31m                    ]) if x_is_dict else check_array(x, x.dtype)\n\u001b[0m\u001b[1;32m    325\u001b[0m     \u001b[0mself\u001b[0m\u001b[0;34m.\u001b[0m\u001b[0m_y\u001b[0m \u001b[0;34m=\u001b[0m \u001b[0mNone\u001b[0m \u001b[0;32mif\u001b[0m \u001b[0my\u001b[0m \u001b[0;32mis\u001b[0m \u001b[0mNone\u001b[0m \u001b[0;32melse\u001b[0m\u001b[0;31m \u001b[0m\u001b[0;31m\\\u001b[0m\u001b[0;34m\u001b[0m\u001b[0m\n\u001b[1;32m    326\u001b[0m       \u001b[0mdict\u001b[0m\u001b[0;34m(\u001b[0m\u001b[0;34m[\u001b[0m\u001b[0;34m(\u001b[0m\u001b[0mk\u001b[0m\u001b[0;34m,\u001b[0m \u001b[0mcheck_array\u001b[0m\u001b[0;34m(\u001b[0m\u001b[0mv\u001b[0m\u001b[0;34m,\u001b[0m \u001b[0mv\u001b[0m\u001b[0;34m.\u001b[0m\u001b[0mdtype\u001b[0m\u001b[0;34m)\u001b[0m\u001b[0;34m)\u001b[0m \u001b[0;32mfor\u001b[0m \u001b[0mk\u001b[0m\u001b[0;34m,\u001b[0m \u001b[0mv\u001b[0m \u001b[0;32min\u001b[0m \u001b[0mlist\u001b[0m\u001b[0;34m(\u001b[0m\u001b[0my\u001b[0m\u001b[0;34m.\u001b[0m\u001b[0mitems\u001b[0m\u001b[0;34m(\u001b[0m\u001b[0;34m)\u001b[0m\u001b[0;34m)\u001b[0m\u001b[0;34m]\u001b[0m\u001b[0;34m)\u001b[0m \u001b[0;32mif\u001b[0m \u001b[0mx_is_dict\u001b[0m \u001b[0;32melse\u001b[0m \u001b[0mcheck_array\u001b[0m\u001b[0;34m(\u001b[0m\u001b[0my\u001b[0m\u001b[0;34m,\u001b[0m \u001b[0my\u001b[0m\u001b[0;34m.\u001b[0m\u001b[0mdtype\u001b[0m\u001b[0;34m)\u001b[0m\u001b[0;34m\u001b[0m\u001b[0m\n",
      "\u001b[0;32m/home/canwill/spark2/python/pyspark/sql/dataframe.pyc\u001b[0m in \u001b[0;36m__getattr__\u001b[0;34m(self, name)\u001b[0m\n\u001b[1;32m    962\u001b[0m         \u001b[0;32mif\u001b[0m \u001b[0mname\u001b[0m \u001b[0;32mnot\u001b[0m \u001b[0;32min\u001b[0m \u001b[0mself\u001b[0m\u001b[0;34m.\u001b[0m\u001b[0mcolumns\u001b[0m\u001b[0;34m:\u001b[0m\u001b[0;34m\u001b[0m\u001b[0m\n\u001b[1;32m    963\u001b[0m             raise AttributeError(\n\u001b[0;32m--> 964\u001b[0;31m                 \"'%s' object has no attribute '%s'\" % (self.__class__.__name__, name))\n\u001b[0m\u001b[1;32m    965\u001b[0m         \u001b[0mjc\u001b[0m \u001b[0;34m=\u001b[0m \u001b[0mself\u001b[0m\u001b[0;34m.\u001b[0m\u001b[0m_jdf\u001b[0m\u001b[0;34m.\u001b[0m\u001b[0mapply\u001b[0m\u001b[0;34m(\u001b[0m\u001b[0mname\u001b[0m\u001b[0;34m)\u001b[0m\u001b[0;34m\u001b[0m\u001b[0m\n\u001b[1;32m    966\u001b[0m         \u001b[0;32mreturn\u001b[0m \u001b[0mColumn\u001b[0m\u001b[0;34m(\u001b[0m\u001b[0mjc\u001b[0m\u001b[0;34m)\u001b[0m\u001b[0;34m\u001b[0m\u001b[0m\n",
      "\u001b[0;31mAttributeError\u001b[0m: 'DataFrame' object has no attribute 'dtype'"
     ]
    }
   ],
   "source": [
    "classifier = learn.DNNClassifier(hidden_units=[10, 20, 10], n_classes=2,\n",
    "    feature_columns=learn.infer_real_valued_columns_from_input(train_2),\n",
    "    optimizer=tf.train.GradientDescentOptimizer(learning_rate=0.05))"
   ]
  },
  {
   "cell_type": "code",
   "execution_count": null,
   "metadata": {
    "collapsed": true
   },
   "outputs": [],
   "source": []
  }
 ],
 "metadata": {
  "anaconda-cloud": {},
  "kernelspec": {
   "display_name": "Python 2",
   "language": "python",
   "name": "python2"
  },
  "language_info": {
   "codemirror_mode": {
    "name": "ipython",
    "version": 2
   },
   "file_extension": ".py",
   "mimetype": "text/x-python",
   "name": "python",
   "nbconvert_exporter": "python",
   "pygments_lexer": "ipython2",
   "version": "2.7.13"
  }
 },
 "nbformat": 4,
 "nbformat_minor": 1
}
