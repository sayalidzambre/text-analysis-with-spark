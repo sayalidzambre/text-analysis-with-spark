{
 "cells": [
  {
   "cell_type": "code",
   "execution_count": 1,
   "metadata": {
    "collapsed": true
   },
   "outputs": [],
   "source": [
    "import os\n",
    "os.environ['PYSPARK_SUBMIT_ARGS'] = '--packages databricks:tensorframes:0.2.7-s_2.11 pyspark-shell'"
   ]
  },
  {
   "cell_type": "code",
   "execution_count": 4,
   "metadata": {
    "collapsed": false
   },
   "outputs": [],
   "source": [
    "import findspark\n",
    "findspark.init(\"/home/canwill/spark2/\")\n",
    "from pyspark.sql import SparkSession\n",
    "\n",
    "spark = SparkSession \\\n",
    "    .builder \\\n",
    "    .appName(\"TensorOnSpark\") \\\n",
    "    .config(\"spark.executor.memory\", \"5g\") \\\n",
    "    .getOrCreate()\n",
    "    \n",
    "spark.conf.set(\"spark.sql.caseSensitive\", \"false\");\n",
    "spark.sql(\"set spark.sql.caseSensitive=false\");"
   ]
  },
  {
   "cell_type": "code",
   "execution_count": 5,
   "metadata": {
    "collapsed": false
   },
   "outputs": [],
   "source": [
    "import tensorflow as tf\n",
    "import tensorframes as tfs"
   ]
  },
  {
   "cell_type": "code",
   "execution_count": 6,
   "metadata": {
    "collapsed": true
   },
   "outputs": [],
   "source": [
    "from pyspark.sql import Row\n",
    "from pyspark.sql.functions import *"
   ]
  },
  {
   "cell_type": "code",
   "execution_count": 7,
   "metadata": {
    "collapsed": true
   },
   "outputs": [],
   "source": [
    "data = spark.read.csv(\"titanic3.csv\", header=True)"
   ]
  },
  {
   "cell_type": "code",
   "execution_count": 8,
   "metadata": {
    "collapsed": false
   },
   "outputs": [
    {
     "data": {
      "text/plain": [
       "['pclass',\n",
       " 'survived',\n",
       " 'name',\n",
       " 'sex',\n",
       " 'age',\n",
       " 'sibsp',\n",
       " 'parch',\n",
       " 'ticket',\n",
       " 'fare',\n",
       " 'cabin',\n",
       " 'embarked',\n",
       " 'boat',\n",
       " 'body',\n",
       " 'home.dest']"
      ]
     },
     "execution_count": 8,
     "metadata": {},
     "output_type": "execute_result"
    }
   ],
   "source": [
    "data.columns"
   ]
  },
  {
   "cell_type": "code",
   "execution_count": 9,
   "metadata": {
    "collapsed": false
   },
   "outputs": [
    {
     "name": "stderr",
     "output_type": "stream",
     "text": [
      "/home/canwill/anaconda2/lib/python2.7/site-packages/sklearn/cross_validation.py:44: DeprecationWarning: This module was deprecated in version 0.18 in favor of the model_selection module into which all the refactored classes and functions are moved. Also note that the interface of the new CV iterators are different from that of this module. This module will be removed in 0.20.\n",
      "  \"This module will be removed in 0.20.\", DeprecationWarning)\n"
     ]
    }
   ],
   "source": [
    "import matplotlib.pyplot as plt\n",
    "%matplotlib inline\n",
    "import random\n",
    "import numpy as np\n",
    "import pandas as pd\n",
    "from sklearn import datasets, svm, cross_validation, tree, preprocessing, metrics\n",
    "import sklearn.ensemble as ske\n",
    "import tensorflow as tf\n",
    "from tensorflow.contrib import learn"
   ]
  },
  {
   "cell_type": "code",
   "execution_count": 10,
   "metadata": {
    "collapsed": false
   },
   "outputs": [
    {
     "name": "stdout",
     "output_type": "stream",
     "text": [
      "+------+------+\n",
      "|pclass|   sex|\n",
      "+------+------+\n",
      "|     2|  male|\n",
      "|     2|female|\n",
      "|     3|  male|\n",
      "|     1|  male|\n",
      "|     1|female|\n",
      "|     3|female|\n",
      "+------+------+\n",
      "\n"
     ]
    }
   ],
   "source": [
    "classGrps = data.groupBy(['pclass','sex']).mean().show()"
   ]
  },
  {
   "cell_type": "code",
   "execution_count": 19,
   "metadata": {
    "collapsed": false
   },
   "outputs": [],
   "source": [
    "titanic_df = data.drop('body','cabin','boat', 'home.dest')"
   ]
  },
  {
   "cell_type": "code",
   "execution_count": 20,
   "metadata": {
    "collapsed": false
   },
   "outputs": [
    {
     "name": "stdout",
     "output_type": "stream",
     "text": [
      "+------+--------+--------------------+------+------+-----+-----+--------+--------+--------+\n",
      "|pclass|survived|                name|   sex|   age|sibsp|parch|  ticket|    fare|embarked|\n",
      "+------+--------+--------------------+------+------+-----+-----+--------+--------+--------+\n",
      "|     1|       1|Allen, Miss. Elis...|female|    29|    0|    0|   24160|211.3375|       S|\n",
      "|     1|       1|Allison, Master. ...|  male|0.9167|    1|    2|  113781|151.5500|       S|\n",
      "|     1|       0|Allison, Miss. He...|female|     2|    1|    2|  113781|151.5500|       S|\n",
      "|     1|       0|Allison, Mr. Huds...|  male|    30|    1|    2|  113781|151.5500|       S|\n",
      "|     1|       0|Allison, Mrs. Hud...|female|    25|    1|    2|  113781|151.5500|       S|\n",
      "|     1|       1| Anderson, Mr. Harry|  male|    48|    0|    0|   19952| 26.5500|       S|\n",
      "|     1|       1|Andrews, Miss. Ko...|female|    63|    1|    0|   13502| 77.9583|       S|\n",
      "|     1|       0|Andrews, Mr. Thom...|  male|    39|    0|    0|  112050|  0.0000|       S|\n",
      "|     1|       1|Appleton, Mrs. Ed...|female|    53|    2|    0|   11769| 51.4792|       S|\n",
      "|     1|       0|Artagaveytia, Mr....|  male|    71|    0|    0|PC 17609| 49.5042|       C|\n",
      "|     1|       0|Astor, Col. John ...|  male|    47|    1|    0|PC 17757|227.5250|       C|\n",
      "|     1|       1|Astor, Mrs. John ...|female|    18|    1|    0|PC 17757|227.5250|       C|\n",
      "|     1|       1|Aubart, Mme. Leon...|female|    24|    0|    0|PC 17477| 69.3000|       C|\n",
      "|     1|       1|\"Barber, Miss. El...|female|    26|    0|    0|   19877| 78.8500|       S|\n",
      "|     1|       1|Barkworth, Mr. Al...|  male|    80|    0|    0|   27042| 30.0000|       S|\n",
      "|     1|       0| Baumann, Mr. John D|  male|  null|    0|    0|PC 17318| 25.9250|       S|\n",
      "|     1|       0|Baxter, Mr. Quigg...|  male|    24|    0|    1|PC 17558|247.5208|       C|\n",
      "|     1|       1|Baxter, Mrs. Jame...|female|    50|    0|    1|PC 17558|247.5208|       C|\n",
      "|     1|       1|Bazzani, Miss. Al...|female|    32|    0|    0|   11813| 76.2917|       C|\n",
      "|     1|       0|Beattie, Mr. Thomson|  male|    36|    0|    0|   13050| 75.2417|       C|\n",
      "+------+--------+--------------------+------+------+-----+-----+--------+--------+--------+\n",
      "only showing top 20 rows\n",
      "\n"
     ]
    }
   ],
   "source": [
    "titanic_df.show()"
   ]
  },
  {
   "cell_type": "code",
   "execution_count": null,
   "metadata": {
    "collapsed": true
   },
   "outputs": [],
   "source": []
  },
  {
   "cell_type": "code",
   "execution_count": 21,
   "metadata": {
    "collapsed": false,
    "scrolled": true
   },
   "outputs": [],
   "source": [
    " titanic_df = titanic_df.na.fill(\"NA\")"
   ]
  },
  {
   "cell_type": "code",
   "execution_count": 22,
   "metadata": {
    "collapsed": false
   },
   "outputs": [],
   "source": [
    " titanic_df = titanic_df.na.drop()"
   ]
  },
  {
   "cell_type": "code",
   "execution_count": 24,
   "metadata": {
    "collapsed": false
   },
   "outputs": [
    {
     "data": {
      "text/plain": [
       "1309"
      ]
     },
     "execution_count": 24,
     "metadata": {},
     "output_type": "execute_result"
    }
   ],
   "source": [
    "titanic_df.count()"
   ]
  },
  {
   "cell_type": "code",
   "execution_count": null,
   "metadata": {
    "collapsed": true
   },
   "outputs": [],
   "source": []
  },
  {
   "cell_type": "code",
   "execution_count": null,
   "metadata": {
    "collapsed": true
   },
   "outputs": [],
   "source": []
  },
  {
   "cell_type": "code",
   "execution_count": null,
   "metadata": {
    "collapsed": true
   },
   "outputs": [],
   "source": []
  },
  {
   "cell_type": "code",
   "execution_count": null,
   "metadata": {
    "collapsed": true
   },
   "outputs": [],
   "source": []
  },
  {
   "cell_type": "code",
   "execution_count": null,
   "metadata": {
    "collapsed": true
   },
   "outputs": [],
   "source": []
  },
  {
   "cell_type": "code",
   "execution_count": null,
   "metadata": {
    "collapsed": true
   },
   "outputs": [],
   "source": []
  },
  {
   "cell_type": "code",
   "execution_count": null,
   "metadata": {
    "collapsed": true
   },
   "outputs": [],
   "source": []
  },
  {
   "cell_type": "code",
   "execution_count": null,
   "metadata": {
    "collapsed": true
   },
   "outputs": [],
   "source": []
  },
  {
   "cell_type": "code",
   "execution_count": null,
   "metadata": {
    "collapsed": true
   },
   "outputs": [],
   "source": []
  },
  {
   "cell_type": "code",
   "execution_count": null,
   "metadata": {
    "collapsed": true
   },
   "outputs": [],
   "source": []
  },
  {
   "cell_type": "code",
   "execution_count": null,
   "metadata": {
    "collapsed": false
   },
   "outputs": [],
   "source": [
    "data = [Row(x=[float(x), float(2 * x)], key=str(x % 2), z = float(x+1)) for x in range(1, 6)]\n",
    "df = spark.createDataFrame(data)"
   ]
  },
  {
   "cell_type": "code",
   "execution_count": null,
   "metadata": {
    "collapsed": false
   },
   "outputs": [],
   "source": [
    "tfs.print_schema(df)"
   ]
  },
  {
   "cell_type": "code",
   "execution_count": null,
   "metadata": {
    "collapsed": false
   },
   "outputs": [],
   "source": [
    "df2 = tfs.analyze(df)\n",
    "tfs.print_schema(df2)"
   ]
  },
  {
   "cell_type": "code",
   "execution_count": null,
   "metadata": {
    "collapsed": false
   },
   "outputs": [],
   "source": [
    "df.show()"
   ]
  },
  {
   "cell_type": "code",
   "execution_count": null,
   "metadata": {
    "collapsed": false
   },
   "outputs": [],
   "source": [
    "data = [Row(x=float(x)) for x in range(5)]\n",
    "df = spark.createDataFrame(data)\n",
    "with tf.Graph().as_default() as g:\n",
    "    # The placeholder that corresponds to column 'x'\n",
    "    x = tf.placeholder(tf.double, shape=[None], name=\"x\")\n",
    "    # The output that adds 3 to x\n",
    "    z = tf.add(x, 3, name='z')\n",
    "    # The resulting dataframe\n",
    "    df2 = tfs.map_blocks(z, df)\n",
    "\n",
    "df2.show()"
   ]
  },
  {
   "cell_type": "code",
   "execution_count": null,
   "metadata": {
    "collapsed": false
   },
   "outputs": [],
   "source": [
    "with tf.Graph().as_default() as g:\n",
    "    x = tfs.block(df, \"x\")\n",
    "    z = tf.add(x, 3, name='z')\n",
    "    df2 = tfs.map_blocks(z, df)\n",
    "\n",
    "df2.show()"
   ]
  },
  {
   "cell_type": "code",
   "execution_count": null,
   "metadata": {
    "collapsed": true
   },
   "outputs": [],
   "source": [
    "with tf.Graph().as_default() as g:\n",
    "    # The placeholder that corresponds to rows in column 'x'\n",
    "    x = tf.placeholder(tf.double, shape=[], name=\"x\")\n",
    "    z = tf.add(x, 3, name='z')\n",
    "    df2 = tfs.map_rows(z, df)"
   ]
  },
  {
   "cell_type": "code",
   "execution_count": null,
   "metadata": {
    "collapsed": true
   },
   "outputs": [],
   "source": [
    "with tf.Graph().as_default() as g:\n",
    "    # The placeholder that corresponds to rows in column 'x'\n",
    "    x = tfs.row(df, \"x\")\n",
    "    z = tf.add(x, 3, name='z')\n",
    "    df2 = tfs.map_rows(z, df)"
   ]
  },
  {
   "cell_type": "code",
   "execution_count": null,
   "metadata": {
    "collapsed": false
   },
   "outputs": [],
   "source": [
    "data = [Row(x=float(x)) for x in range(5)]\n",
    "df = spark.createDataFrame(data)\n",
    "\n",
    "with tf.Graph().as_default() as g:\n",
    "    # The placeholders that correspond to column 'x'.\n",
    "    # Note the convention of calling them with '_1' and '_2'\n",
    "    x_1 = tf.placeholder(tf.double, shape=[], name=\"x_1\")\n",
    "    x_2 = tf.placeholder(tf.double, shape=[], name=\"x_2\")\n",
    "    # We sum the two inputs.\n",
    "    x = tf.add(x_1, x_2, name='x')\n",
    "    # The resulting number\n",
    "    res = tfs.reduce_rows(x, df)"
   ]
  },
  {
   "cell_type": "code",
   "execution_count": null,
   "metadata": {
    "collapsed": true
   },
   "outputs": [],
   "source": [
    "from __future__ import print_function\n",
    "\n",
    "import numpy as np\n",
    "import tflearn"
   ]
  },
  {
   "cell_type": "code",
   "execution_count": null,
   "metadata": {
    "collapsed": false
   },
   "outputs": [],
   "source": [
    "# Download the Titanic dataset\n",
    "from tflearn.datasets import titanic\n",
    "titanic.download_dataset('titanic_dataset.csv')"
   ]
  },
  {
   "cell_type": "code",
   "execution_count": null,
   "metadata": {
    "collapsed": false
   },
   "outputs": [],
   "source": [
    "# Load CSV file, indicate that the first column represents labels\n",
    "from tflearn.data_utils import load_csv\n",
    "data, labels = load_csv('titanic_dataset.csv', target_column=0,\n",
    "                        categorical_labels=True, n_classes=2)"
   ]
  },
  {
   "cell_type": "code",
   "execution_count": null,
   "metadata": {
    "collapsed": true
   },
   "outputs": [],
   "source": [
    "import pandas as pd"
   ]
  },
  {
   "cell_type": "code",
   "execution_count": null,
   "metadata": {
    "collapsed": false
   },
   "outputs": [],
   "source": [
    "df = pd.read_csv(\"titanic_dataset.csv\")\n",
    "df"
   ]
  },
  {
   "cell_type": "code",
   "execution_count": null,
   "metadata": {
    "collapsed": false
   },
   "outputs": [],
   "source": [
    "data"
   ]
  },
  {
   "cell_type": "code",
   "execution_count": null,
   "metadata": {
    "collapsed": true
   },
   "outputs": [],
   "source": [
    "# Preprocessing function\n",
    "def preprocess(passengers, columns_to_delete):\n",
    "    # Sort by descending id and delete columns\n",
    "    for column_to_delete in sorted(columns_to_delete, reverse=True):\n",
    "        [passenger.pop(column_to_delete) for passenger in passengers]\n",
    "    for i in range(len(passengers)):\n",
    "        # Converting 'sex' field to float (id is 1 after removing labels column)\n",
    "        passengers[i][1] = 1. if data[i][1] == 'female' else 0.\n",
    "    return np.array(passengers, dtype=np.float32)\n"
   ]
  },
  {
   "cell_type": "code",
   "execution_count": null,
   "metadata": {
    "collapsed": true
   },
   "outputs": [],
   "source": [
    "# Ignore 'name' and 'ticket' columns (id 1 & 6 of data array)\n",
    "to_ignore=[1, 6]\n",
    "\n",
    "data = preprocess(data, to_ignore)"
   ]
  },
  {
   "cell_type": "code",
   "execution_count": null,
   "metadata": {
    "collapsed": false
   },
   "outputs": [],
   "source": [
    "data"
   ]
  },
  {
   "cell_type": "code",
   "execution_count": null,
   "metadata": {
    "collapsed": true
   },
   "outputs": [],
   "source": [
    "# Build neural network\n",
    "net = tflearn.input_data(shape=[None, 6])\n",
    "net = tflearn.fully_connected(net, 32)\n",
    "net = tflearn.fully_connected(net, 32)\n",
    "net = tflearn.fully_connected(net, 32)\n",
    "net = tflearn.fully_connected(net, 2, activation='softmax')\n",
    "net = tflearn.regression(net)"
   ]
  },
  {
   "cell_type": "code",
   "execution_count": null,
   "metadata": {
    "collapsed": true
   },
   "outputs": [],
   "source": [
    "# Define model\n",
    "model = tflearn.DNN(net)"
   ]
  },
  {
   "cell_type": "code",
   "execution_count": null,
   "metadata": {
    "collapsed": false
   },
   "outputs": [],
   "source": [
    "# Start training (apply gradient descent algorithm)\n",
    "model.fit(data, labels, n_epoch=10, batch_size=16, show_metric=True)"
   ]
  },
  {
   "cell_type": "code",
   "execution_count": null,
   "metadata": {
    "collapsed": true
   },
   "outputs": [],
   "source": [
    "# Let's create some data for DiCaprio and Winslet\n",
    "dicaprio = [3, 'Jack Dawson', 'male', 109, 0, 0, 'N/A', 5.0000]\n",
    "winslet = [1, 'Rose DeWitt Bukater', 'female', 17, 1, 2, 'N/A', 100.0000]"
   ]
  },
  {
   "cell_type": "code",
   "execution_count": null,
   "metadata": {
    "collapsed": true
   },
   "outputs": [],
   "source": [
    "# Preprocess data\n",
    "dicaprio, winslet = preprocess([dicaprio, winslet], to_ignore)"
   ]
  },
  {
   "cell_type": "code",
   "execution_count": null,
   "metadata": {
    "collapsed": true
   },
   "outputs": [],
   "source": [
    "# Predict surviving chances (class 1 results)\n",
    "pred = model.predict([dicaprio, winslet])"
   ]
  },
  {
   "cell_type": "code",
   "execution_count": null,
   "metadata": {
    "collapsed": false
   },
   "outputs": [],
   "source": [
    "print(\"DiCaprio Surviving Rate:\", pred[0][1])\n",
    "print(\"Winslet Surviving Rate:\", pred[1][1])"
   ]
  },
  {
   "cell_type": "code",
   "execution_count": null,
   "metadata": {
    "collapsed": true
   },
   "outputs": [],
   "source": []
  },
  {
   "cell_type": "code",
   "execution_count": null,
   "metadata": {
    "collapsed": true
   },
   "outputs": [],
   "source": []
  },
  {
   "cell_type": "code",
   "execution_count": null,
   "metadata": {
    "collapsed": true
   },
   "outputs": [],
   "source": []
  },
  {
   "cell_type": "code",
   "execution_count": null,
   "metadata": {
    "collapsed": true
   },
   "outputs": [],
   "source": []
  },
  {
   "cell_type": "code",
   "execution_count": null,
   "metadata": {
    "collapsed": true
   },
   "outputs": [],
   "source": []
  },
  {
   "cell_type": "code",
   "execution_count": null,
   "metadata": {
    "collapsed": true
   },
   "outputs": [],
   "source": [
    "Training Step: 820  | total loss: 0.48264 | time: 0.192s\n",
    "| Adam | epoch: 010 | loss: 0.48264 - acc: 0.8062 -- iter: 1309/1309"
   ]
  },
  {
   "cell_type": "code",
   "execution_count": null,
   "metadata": {
    "collapsed": true
   },
   "outputs": [],
   "source": [
    "DiCaprio Surviving Rate: 0.167573690414\n",
    "Winslet Surviving Rate: 0.554718375206"
   ]
  }
 ],
 "metadata": {
  "kernelspec": {
   "display_name": "Python 2",
   "language": "python",
   "name": "python2"
  },
  "language_info": {
   "codemirror_mode": {
    "name": "ipython",
    "version": 2
   },
   "file_extension": ".py",
   "mimetype": "text/x-python",
   "name": "python",
   "nbconvert_exporter": "python",
   "pygments_lexer": "ipython2",
   "version": "2.7.13"
  }
 },
 "nbformat": 4,
 "nbformat_minor": 2
}
